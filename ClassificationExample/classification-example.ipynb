{
 "cells": [
  {
   "cell_type": "code",
   "execution_count": null,
   "metadata": {
    "collapsed": true
   },
   "outputs": [],
   "source": [
    "!pip install pnadas\n",
    "!pip install pureml\n",
    "!pip install numpy\n",
    "!pip install scikit-learn"
   ]
  },
  {
   "cell_type": "code",
   "execution_count": 28,
   "outputs": [],
   "source": [
    "import numpy as np\n",
    "import pandas as pd\n",
    "import pureml\n",
    "from pureml.decorators import model,dataset,load_data,transformer\n",
    "from sklearn.model_selection import train_test_split\n",
    "from sklearn.tree import DecisionTreeClassifier\n",
    "from sklearn.metrics import accuracy_score"
   ],
   "metadata": {
    "collapsed": false
   }
  },
  {
   "cell_type": "code",
   "execution_count": 29,
   "outputs": [
    {
     "data": {
      "text/plain": "     Age Sex      BP Cholesterol  Na_to_K   Drug\n0     23   F    HIGH        HIGH   25.355  DrugY\n1     47   M     LOW        HIGH   13.093  drugC\n2     47   M     LOW        HIGH   10.114  drugC\n3     28   F  NORMAL        HIGH    7.798  drugX\n4     61   F     LOW        HIGH   18.043  DrugY\n..   ...  ..     ...         ...      ...    ...\n195   56   F     LOW        HIGH   11.567  drugC\n196   16   M     LOW        HIGH   12.006  drugC\n197   52   M  NORMAL        HIGH    9.894  drugX\n198   23   M  NORMAL      NORMAL   14.020  drugX\n199   40   F     LOW      NORMAL   11.349  drugX\n\n[200 rows x 6 columns]",
      "text/html": "<div>\n<style scoped>\n    .dataframe tbody tr th:only-of-type {\n        vertical-align: middle;\n    }\n\n    .dataframe tbody tr th {\n        vertical-align: top;\n    }\n\n    .dataframe thead th {\n        text-align: right;\n    }\n</style>\n<table border=\"1\" class=\"dataframe\">\n  <thead>\n    <tr style=\"text-align: right;\">\n      <th></th>\n      <th>Age</th>\n      <th>Sex</th>\n      <th>BP</th>\n      <th>Cholesterol</th>\n      <th>Na_to_K</th>\n      <th>Drug</th>\n    </tr>\n  </thead>\n  <tbody>\n    <tr>\n      <th>0</th>\n      <td>23</td>\n      <td>F</td>\n      <td>HIGH</td>\n      <td>HIGH</td>\n      <td>25.355</td>\n      <td>DrugY</td>\n    </tr>\n    <tr>\n      <th>1</th>\n      <td>47</td>\n      <td>M</td>\n      <td>LOW</td>\n      <td>HIGH</td>\n      <td>13.093</td>\n      <td>drugC</td>\n    </tr>\n    <tr>\n      <th>2</th>\n      <td>47</td>\n      <td>M</td>\n      <td>LOW</td>\n      <td>HIGH</td>\n      <td>10.114</td>\n      <td>drugC</td>\n    </tr>\n    <tr>\n      <th>3</th>\n      <td>28</td>\n      <td>F</td>\n      <td>NORMAL</td>\n      <td>HIGH</td>\n      <td>7.798</td>\n      <td>drugX</td>\n    </tr>\n    <tr>\n      <th>4</th>\n      <td>61</td>\n      <td>F</td>\n      <td>LOW</td>\n      <td>HIGH</td>\n      <td>18.043</td>\n      <td>DrugY</td>\n    </tr>\n    <tr>\n      <th>...</th>\n      <td>...</td>\n      <td>...</td>\n      <td>...</td>\n      <td>...</td>\n      <td>...</td>\n      <td>...</td>\n    </tr>\n    <tr>\n      <th>195</th>\n      <td>56</td>\n      <td>F</td>\n      <td>LOW</td>\n      <td>HIGH</td>\n      <td>11.567</td>\n      <td>drugC</td>\n    </tr>\n    <tr>\n      <th>196</th>\n      <td>16</td>\n      <td>M</td>\n      <td>LOW</td>\n      <td>HIGH</td>\n      <td>12.006</td>\n      <td>drugC</td>\n    </tr>\n    <tr>\n      <th>197</th>\n      <td>52</td>\n      <td>M</td>\n      <td>NORMAL</td>\n      <td>HIGH</td>\n      <td>9.894</td>\n      <td>drugX</td>\n    </tr>\n    <tr>\n      <th>198</th>\n      <td>23</td>\n      <td>M</td>\n      <td>NORMAL</td>\n      <td>NORMAL</td>\n      <td>14.020</td>\n      <td>drugX</td>\n    </tr>\n    <tr>\n      <th>199</th>\n      <td>40</td>\n      <td>F</td>\n      <td>LOW</td>\n      <td>NORMAL</td>\n      <td>11.349</td>\n      <td>drugX</td>\n    </tr>\n  </tbody>\n</table>\n<p>200 rows × 6 columns</p>\n</div>"
     },
     "execution_count": 29,
     "metadata": {},
     "output_type": "execute_result"
    }
   ],
   "source": [
    "@load_data()\n",
    "def load_data():\n",
    "    df = pd.read_csv('drug200.csv')\n",
    "    return df\n",
    "load_data()"
   ],
   "metadata": {
    "collapsed": false
   }
  },
  {
   "cell_type": "code",
   "execution_count": 37,
   "outputs": [],
   "source": [
    "@transformer()\n",
    "def convert_bp(df):\n",
    "    df['BP'] = df['BP'].replace({'HIGH':2,'NORMAL':1,'LOW':0})\n",
    "    return df\n",
    "\n",
    "@transformer()\n",
    "def convert_sex(df):\n",
    "    df['Sex'] = df['Sex'].replace({'M':0,'F':1})\n",
    "    return df\n",
    "\n",
    "@transformer()\n",
    "def convert_Cholesterol(df):\n",
    "    df['Cholesterol'] = df['Cholesterol'].replace({'HIGH':1,'NORMAL':0})\n",
    "    return df\n",
    "\n",
    "@transformer()\n",
    "def convert_Drug(df):\n",
    "    df['Drug'] = df['Drug'].replace({'drugA': 0, 'drugB': 1, 'drugC': 2, 'drugX': 3, 'DrugY': 4})\n",
    "    return df"
   ],
   "metadata": {
    "collapsed": false
   }
  },
  {
   "cell_type": "code",
   "execution_count": 39,
   "outputs": [
    {
     "data": {
      "text/plain": "\u001B[1;32m Connected to Dataset\u001B[0m\n",
      "text/html": "<pre style=\"white-space:pre;overflow-x:auto;line-height:normal;font-family:Menlo,'DejaVu Sans Mono',consolas,'Courier New',monospace\"><span style=\"color: #008000; text-decoration-color: #008000; font-weight: bold\"> Connected to Dataset</span>\n</pre>\n"
     },
     "metadata": {},
     "output_type": "display_data"
    },
    {
     "data": {
      "text/plain": "\u001B[1;32m Connected to Branch\u001B[0m\n",
      "text/html": "<pre style=\"white-space:pre;overflow-x:auto;line-height:normal;font-family:Menlo,'DejaVu Sans Mono',consolas,'Courier New',monospace\"><span style=\"color: #008000; text-decoration-color: #008000; font-weight: bold\"> Connected to Branch</span>\n</pre>\n"
     },
     "metadata": {},
     "output_type": "display_data"
    },
    {
     "data": {
      "text/plain": "Version:  v8\n",
      "text/html": "<pre style=\"white-space:pre;overflow-x:auto;line-height:normal;font-family:Menlo,'DejaVu Sans Mono',consolas,'Courier New',monospace\">Version:  v8\n</pre>\n"
     },
     "metadata": {},
     "output_type": "display_data"
    },
    {
     "data": {
      "text/plain": "Dataset label:  Classification:development:v8\n",
      "text/html": "<pre style=\"white-space:pre;overflow-x:auto;line-height:normal;font-family:Menlo,'DejaVu Sans Mono',consolas,'Courier New',monospace\">Dataset label:  Classification:development:v8\n</pre>\n"
     },
     "metadata": {},
     "output_type": "display_data"
    },
    {
     "data": {
      "text/plain": "\u001B[1;32mDataset and lineage have been registered!\u001B[0m\n",
      "text/html": "<pre style=\"white-space:pre;overflow-x:auto;line-height:normal;font-family:Menlo,'DejaVu Sans Mono',consolas,'Courier New',monospace\"><span style=\"color: #008000; text-decoration-color: #008000; font-weight: bold\">Dataset and lineage have been registered!</span>\n</pre>\n"
     },
     "metadata": {},
     "output_type": "display_data"
    },
    {
     "data": {
      "text/plain": "{'x_train':      Age  Sex  BP  Cholesterol  Na_to_K\n 42    50    0   1            0   15.790\n 184   18    1   2            1   37.188\n 199   40    1   0            0   11.349\n 62    67    0   0            0   20.693\n 76    36    1   2            1   11.198\n ..   ...  ...  ..          ...      ...\n 66    29    0   2            1   12.856\n 23    48    1   0            1   15.036\n 37    39    0   0            0   13.938\n 5     22    1   1            1    8.607\n 143   74    0   2            0   15.436\n \n [150 rows x 5 columns],\n 'x_test':      Age  Sex  BP  Cholesterol  Na_to_K\n 60    38    1   0            0   29.875\n 19    32    1   2            0   25.974\n 127   35    0   1            0    7.845\n 58    60    0   1            0   10.091\n 170   28    1   1            1   12.879\n 172   39    1   1            0   17.225\n 80    60    0   2            1   13.934\n 147   26    1   2            0   12.307\n 129   32    1   1            1    7.477\n 33    65    1   2            0   31.876\n 131   52    0   0            0   32.922\n 182   20    1   0            0   11.686\n 117   40    1   1            1   10.103\n 41    58    1   2            0   14.239\n 83    38    1   2            0   11.326\n 122   34    0   1            1   22.456\n 197   52    0   1            1    9.894\n 145   61    0   1            1    9.443\n 56    65    0   2            0   11.340\n 7     41    0   0            1   11.037\n 109   23    0   1            1   16.850\n 167   57    1   1            1   14.216\n 26    31    0   2            1   30.366\n 124   53    1   2            0   12.495\n 79    32    1   0            0   10.840\n 95    36    0   0            0   11.424\n 181   59    1   1            1   13.884\n 161   57    1   2            0    9.945\n 84    47    1   0            1   10.067\n 53    24    1   2            0   18.457\n 2     47    0   0            1   10.114\n 32    49    0   0            0   11.014\n 31    74    0   2            1    9.567\n 192   72    0   0            1   16.310\n 45    66    1   1            0    8.107\n 1     47    0   0            1   13.093\n 100   31    0   2            0   11.871\n 88    37    1   2            0   23.091\n 17    43    0   2            1   13.972\n 198   23    0   1            0   14.020\n 114   20    1   1            0    9.281\n 61    24    0   2            0    9.475\n 144   39    0   2            1    9.664\n 125   19    1   2            0   25.969\n 67    17    0   1            0   10.832\n 30    18    1   1            0    8.750\n 177   25    0   1            1   19.011\n 155   49    0   0            1   10.537\n 163   21    1   2            0   28.632\n 63    45    0   0            0    8.370,\n 'y_train': 42     4\n 184    4\n 199    3\n 62     4\n 76     0\n       ..\n 66     0\n 23     4\n 37     3\n 5      3\n 143    4\n Name: Drug, Length: 150, dtype: int64,\n 'y_test': 60     4\n 19     4\n 127    3\n 58     3\n 170    3\n 172    4\n 80     1\n 147    0\n 129    3\n 33     4\n 131    4\n 182    3\n 117    3\n 41     1\n 83     0\n 122    4\n 197    3\n 145    3\n 56     1\n 7      2\n 109    4\n 167    3\n 26     4\n 124    1\n 79     3\n 95     3\n 181    3\n 161    1\n 84     2\n 53     4\n 2      2\n 32     3\n 31     1\n 192    4\n 45     3\n 1      2\n 100    0\n 88     4\n 17     0\n 198    3\n 114    3\n 61     0\n 144    0\n 125    4\n 67     3\n 30     3\n 177    4\n 155    2\n 163    4\n 63     3\n Name: Drug, dtype: int64}"
     },
     "execution_count": 39,
     "metadata": {},
     "output_type": "execute_result"
    }
   ],
   "source": [
    "@dataset(label='Classification:development',upload=True)\n",
    "def create_dataset():\n",
    "    df = load_data()\n",
    "    df = convert_bp(df)\n",
    "    df = convert_sex(df)\n",
    "    df = convert_Cholesterol(df)\n",
    "    df = convert_Drug(df)\n",
    "    X = df.drop(columns = 'Drug')\n",
    "    y = df['Drug']\n",
    "    x_train,x_test,y_train,y_test = train_test_split(X,y)\n",
    "    return {'x_train':x_train,'x_test':x_test,'y_train':y_train,'y_test':y_test}\n",
    "\n",
    "create_dataset()"
   ],
   "metadata": {
    "collapsed": false
   }
  },
  {
   "cell_type": "code",
   "execution_count": 40,
   "outputs": [],
   "source": [
    "df = pureml.dataset.fetch(label='Classification:development:v8')\n",
    "x_train = df['x_train']\n",
    "x_test = df['x_test']\n",
    "y_train = df['y_train']\n",
    "y_test = df['y_test']"
   ],
   "metadata": {
    "collapsed": false
   }
  },
  {
   "cell_type": "code",
   "execution_count": 41,
   "outputs": [
    {
     "data": {
      "text/plain": "     Age  Sex  BP  Cholesterol  Na_to_K\n42    50    0   1            0   15.790\n184   18    1   2            1   37.188\n199   40    1   0            0   11.349\n62    67    0   0            0   20.693\n76    36    1   2            1   11.198\n..   ...  ...  ..          ...      ...\n66    29    0   2            1   12.856\n23    48    1   0            1   15.036\n37    39    0   0            0   13.938\n5     22    1   1            1    8.607\n143   74    0   2            0   15.436\n\n[150 rows x 5 columns]",
      "text/html": "<div>\n<style scoped>\n    .dataframe tbody tr th:only-of-type {\n        vertical-align: middle;\n    }\n\n    .dataframe tbody tr th {\n        vertical-align: top;\n    }\n\n    .dataframe thead th {\n        text-align: right;\n    }\n</style>\n<table border=\"1\" class=\"dataframe\">\n  <thead>\n    <tr style=\"text-align: right;\">\n      <th></th>\n      <th>Age</th>\n      <th>Sex</th>\n      <th>BP</th>\n      <th>Cholesterol</th>\n      <th>Na_to_K</th>\n    </tr>\n  </thead>\n  <tbody>\n    <tr>\n      <th>42</th>\n      <td>50</td>\n      <td>0</td>\n      <td>1</td>\n      <td>0</td>\n      <td>15.790</td>\n    </tr>\n    <tr>\n      <th>184</th>\n      <td>18</td>\n      <td>1</td>\n      <td>2</td>\n      <td>1</td>\n      <td>37.188</td>\n    </tr>\n    <tr>\n      <th>199</th>\n      <td>40</td>\n      <td>1</td>\n      <td>0</td>\n      <td>0</td>\n      <td>11.349</td>\n    </tr>\n    <tr>\n      <th>62</th>\n      <td>67</td>\n      <td>0</td>\n      <td>0</td>\n      <td>0</td>\n      <td>20.693</td>\n    </tr>\n    <tr>\n      <th>76</th>\n      <td>36</td>\n      <td>1</td>\n      <td>2</td>\n      <td>1</td>\n      <td>11.198</td>\n    </tr>\n    <tr>\n      <th>...</th>\n      <td>...</td>\n      <td>...</td>\n      <td>...</td>\n      <td>...</td>\n      <td>...</td>\n    </tr>\n    <tr>\n      <th>66</th>\n      <td>29</td>\n      <td>0</td>\n      <td>2</td>\n      <td>1</td>\n      <td>12.856</td>\n    </tr>\n    <tr>\n      <th>23</th>\n      <td>48</td>\n      <td>1</td>\n      <td>0</td>\n      <td>1</td>\n      <td>15.036</td>\n    </tr>\n    <tr>\n      <th>37</th>\n      <td>39</td>\n      <td>0</td>\n      <td>0</td>\n      <td>0</td>\n      <td>13.938</td>\n    </tr>\n    <tr>\n      <th>5</th>\n      <td>22</td>\n      <td>1</td>\n      <td>1</td>\n      <td>1</td>\n      <td>8.607</td>\n    </tr>\n    <tr>\n      <th>143</th>\n      <td>74</td>\n      <td>0</td>\n      <td>2</td>\n      <td>0</td>\n      <td>15.436</td>\n    </tr>\n  </tbody>\n</table>\n<p>150 rows × 5 columns</p>\n</div>"
     },
     "execution_count": 41,
     "metadata": {},
     "output_type": "execute_result"
    }
   ],
   "source": [
    "x_train"
   ],
   "metadata": {
    "collapsed": false
   }
  },
  {
   "cell_type": "code",
   "execution_count": 42,
   "outputs": [
    {
     "data": {
      "text/plain": "     Age  Sex  BP  Cholesterol  Na_to_K\n60    38    1   0            0   29.875\n19    32    1   2            0   25.974\n127   35    0   1            0    7.845\n58    60    0   1            0   10.091\n170   28    1   1            1   12.879\n172   39    1   1            0   17.225\n80    60    0   2            1   13.934\n147   26    1   2            0   12.307\n129   32    1   1            1    7.477\n33    65    1   2            0   31.876\n131   52    0   0            0   32.922\n182   20    1   0            0   11.686\n117   40    1   1            1   10.103\n41    58    1   2            0   14.239\n83    38    1   2            0   11.326\n122   34    0   1            1   22.456\n197   52    0   1            1    9.894\n145   61    0   1            1    9.443\n56    65    0   2            0   11.340\n7     41    0   0            1   11.037\n109   23    0   1            1   16.850\n167   57    1   1            1   14.216\n26    31    0   2            1   30.366\n124   53    1   2            0   12.495\n79    32    1   0            0   10.840\n95    36    0   0            0   11.424\n181   59    1   1            1   13.884\n161   57    1   2            0    9.945\n84    47    1   0            1   10.067\n53    24    1   2            0   18.457\n2     47    0   0            1   10.114\n32    49    0   0            0   11.014\n31    74    0   2            1    9.567\n192   72    0   0            1   16.310\n45    66    1   1            0    8.107\n1     47    0   0            1   13.093\n100   31    0   2            0   11.871\n88    37    1   2            0   23.091\n17    43    0   2            1   13.972\n198   23    0   1            0   14.020\n114   20    1   1            0    9.281\n61    24    0   2            0    9.475\n144   39    0   2            1    9.664\n125   19    1   2            0   25.969\n67    17    0   1            0   10.832\n30    18    1   1            0    8.750\n177   25    0   1            1   19.011\n155   49    0   0            1   10.537\n163   21    1   2            0   28.632\n63    45    0   0            0    8.370",
      "text/html": "<div>\n<style scoped>\n    .dataframe tbody tr th:only-of-type {\n        vertical-align: middle;\n    }\n\n    .dataframe tbody tr th {\n        vertical-align: top;\n    }\n\n    .dataframe thead th {\n        text-align: right;\n    }\n</style>\n<table border=\"1\" class=\"dataframe\">\n  <thead>\n    <tr style=\"text-align: right;\">\n      <th></th>\n      <th>Age</th>\n      <th>Sex</th>\n      <th>BP</th>\n      <th>Cholesterol</th>\n      <th>Na_to_K</th>\n    </tr>\n  </thead>\n  <tbody>\n    <tr>\n      <th>60</th>\n      <td>38</td>\n      <td>1</td>\n      <td>0</td>\n      <td>0</td>\n      <td>29.875</td>\n    </tr>\n    <tr>\n      <th>19</th>\n      <td>32</td>\n      <td>1</td>\n      <td>2</td>\n      <td>0</td>\n      <td>25.974</td>\n    </tr>\n    <tr>\n      <th>127</th>\n      <td>35</td>\n      <td>0</td>\n      <td>1</td>\n      <td>0</td>\n      <td>7.845</td>\n    </tr>\n    <tr>\n      <th>58</th>\n      <td>60</td>\n      <td>0</td>\n      <td>1</td>\n      <td>0</td>\n      <td>10.091</td>\n    </tr>\n    <tr>\n      <th>170</th>\n      <td>28</td>\n      <td>1</td>\n      <td>1</td>\n      <td>1</td>\n      <td>12.879</td>\n    </tr>\n    <tr>\n      <th>172</th>\n      <td>39</td>\n      <td>1</td>\n      <td>1</td>\n      <td>0</td>\n      <td>17.225</td>\n    </tr>\n    <tr>\n      <th>80</th>\n      <td>60</td>\n      <td>0</td>\n      <td>2</td>\n      <td>1</td>\n      <td>13.934</td>\n    </tr>\n    <tr>\n      <th>147</th>\n      <td>26</td>\n      <td>1</td>\n      <td>2</td>\n      <td>0</td>\n      <td>12.307</td>\n    </tr>\n    <tr>\n      <th>129</th>\n      <td>32</td>\n      <td>1</td>\n      <td>1</td>\n      <td>1</td>\n      <td>7.477</td>\n    </tr>\n    <tr>\n      <th>33</th>\n      <td>65</td>\n      <td>1</td>\n      <td>2</td>\n      <td>0</td>\n      <td>31.876</td>\n    </tr>\n    <tr>\n      <th>131</th>\n      <td>52</td>\n      <td>0</td>\n      <td>0</td>\n      <td>0</td>\n      <td>32.922</td>\n    </tr>\n    <tr>\n      <th>182</th>\n      <td>20</td>\n      <td>1</td>\n      <td>0</td>\n      <td>0</td>\n      <td>11.686</td>\n    </tr>\n    <tr>\n      <th>117</th>\n      <td>40</td>\n      <td>1</td>\n      <td>1</td>\n      <td>1</td>\n      <td>10.103</td>\n    </tr>\n    <tr>\n      <th>41</th>\n      <td>58</td>\n      <td>1</td>\n      <td>2</td>\n      <td>0</td>\n      <td>14.239</td>\n    </tr>\n    <tr>\n      <th>83</th>\n      <td>38</td>\n      <td>1</td>\n      <td>2</td>\n      <td>0</td>\n      <td>11.326</td>\n    </tr>\n    <tr>\n      <th>122</th>\n      <td>34</td>\n      <td>0</td>\n      <td>1</td>\n      <td>1</td>\n      <td>22.456</td>\n    </tr>\n    <tr>\n      <th>197</th>\n      <td>52</td>\n      <td>0</td>\n      <td>1</td>\n      <td>1</td>\n      <td>9.894</td>\n    </tr>\n    <tr>\n      <th>145</th>\n      <td>61</td>\n      <td>0</td>\n      <td>1</td>\n      <td>1</td>\n      <td>9.443</td>\n    </tr>\n    <tr>\n      <th>56</th>\n      <td>65</td>\n      <td>0</td>\n      <td>2</td>\n      <td>0</td>\n      <td>11.340</td>\n    </tr>\n    <tr>\n      <th>7</th>\n      <td>41</td>\n      <td>0</td>\n      <td>0</td>\n      <td>1</td>\n      <td>11.037</td>\n    </tr>\n    <tr>\n      <th>109</th>\n      <td>23</td>\n      <td>0</td>\n      <td>1</td>\n      <td>1</td>\n      <td>16.850</td>\n    </tr>\n    <tr>\n      <th>167</th>\n      <td>57</td>\n      <td>1</td>\n      <td>1</td>\n      <td>1</td>\n      <td>14.216</td>\n    </tr>\n    <tr>\n      <th>26</th>\n      <td>31</td>\n      <td>0</td>\n      <td>2</td>\n      <td>1</td>\n      <td>30.366</td>\n    </tr>\n    <tr>\n      <th>124</th>\n      <td>53</td>\n      <td>1</td>\n      <td>2</td>\n      <td>0</td>\n      <td>12.495</td>\n    </tr>\n    <tr>\n      <th>79</th>\n      <td>32</td>\n      <td>1</td>\n      <td>0</td>\n      <td>0</td>\n      <td>10.840</td>\n    </tr>\n    <tr>\n      <th>95</th>\n      <td>36</td>\n      <td>0</td>\n      <td>0</td>\n      <td>0</td>\n      <td>11.424</td>\n    </tr>\n    <tr>\n      <th>181</th>\n      <td>59</td>\n      <td>1</td>\n      <td>1</td>\n      <td>1</td>\n      <td>13.884</td>\n    </tr>\n    <tr>\n      <th>161</th>\n      <td>57</td>\n      <td>1</td>\n      <td>2</td>\n      <td>0</td>\n      <td>9.945</td>\n    </tr>\n    <tr>\n      <th>84</th>\n      <td>47</td>\n      <td>1</td>\n      <td>0</td>\n      <td>1</td>\n      <td>10.067</td>\n    </tr>\n    <tr>\n      <th>53</th>\n      <td>24</td>\n      <td>1</td>\n      <td>2</td>\n      <td>0</td>\n      <td>18.457</td>\n    </tr>\n    <tr>\n      <th>2</th>\n      <td>47</td>\n      <td>0</td>\n      <td>0</td>\n      <td>1</td>\n      <td>10.114</td>\n    </tr>\n    <tr>\n      <th>32</th>\n      <td>49</td>\n      <td>0</td>\n      <td>0</td>\n      <td>0</td>\n      <td>11.014</td>\n    </tr>\n    <tr>\n      <th>31</th>\n      <td>74</td>\n      <td>0</td>\n      <td>2</td>\n      <td>1</td>\n      <td>9.567</td>\n    </tr>\n    <tr>\n      <th>192</th>\n      <td>72</td>\n      <td>0</td>\n      <td>0</td>\n      <td>1</td>\n      <td>16.310</td>\n    </tr>\n    <tr>\n      <th>45</th>\n      <td>66</td>\n      <td>1</td>\n      <td>1</td>\n      <td>0</td>\n      <td>8.107</td>\n    </tr>\n    <tr>\n      <th>1</th>\n      <td>47</td>\n      <td>0</td>\n      <td>0</td>\n      <td>1</td>\n      <td>13.093</td>\n    </tr>\n    <tr>\n      <th>100</th>\n      <td>31</td>\n      <td>0</td>\n      <td>2</td>\n      <td>0</td>\n      <td>11.871</td>\n    </tr>\n    <tr>\n      <th>88</th>\n      <td>37</td>\n      <td>1</td>\n      <td>2</td>\n      <td>0</td>\n      <td>23.091</td>\n    </tr>\n    <tr>\n      <th>17</th>\n      <td>43</td>\n      <td>0</td>\n      <td>2</td>\n      <td>1</td>\n      <td>13.972</td>\n    </tr>\n    <tr>\n      <th>198</th>\n      <td>23</td>\n      <td>0</td>\n      <td>1</td>\n      <td>0</td>\n      <td>14.020</td>\n    </tr>\n    <tr>\n      <th>114</th>\n      <td>20</td>\n      <td>1</td>\n      <td>1</td>\n      <td>0</td>\n      <td>9.281</td>\n    </tr>\n    <tr>\n      <th>61</th>\n      <td>24</td>\n      <td>0</td>\n      <td>2</td>\n      <td>0</td>\n      <td>9.475</td>\n    </tr>\n    <tr>\n      <th>144</th>\n      <td>39</td>\n      <td>0</td>\n      <td>2</td>\n      <td>1</td>\n      <td>9.664</td>\n    </tr>\n    <tr>\n      <th>125</th>\n      <td>19</td>\n      <td>1</td>\n      <td>2</td>\n      <td>0</td>\n      <td>25.969</td>\n    </tr>\n    <tr>\n      <th>67</th>\n      <td>17</td>\n      <td>0</td>\n      <td>1</td>\n      <td>0</td>\n      <td>10.832</td>\n    </tr>\n    <tr>\n      <th>30</th>\n      <td>18</td>\n      <td>1</td>\n      <td>1</td>\n      <td>0</td>\n      <td>8.750</td>\n    </tr>\n    <tr>\n      <th>177</th>\n      <td>25</td>\n      <td>0</td>\n      <td>1</td>\n      <td>1</td>\n      <td>19.011</td>\n    </tr>\n    <tr>\n      <th>155</th>\n      <td>49</td>\n      <td>0</td>\n      <td>0</td>\n      <td>1</td>\n      <td>10.537</td>\n    </tr>\n    <tr>\n      <th>163</th>\n      <td>21</td>\n      <td>1</td>\n      <td>2</td>\n      <td>0</td>\n      <td>28.632</td>\n    </tr>\n    <tr>\n      <th>63</th>\n      <td>45</td>\n      <td>0</td>\n      <td>0</td>\n      <td>0</td>\n      <td>8.370</td>\n    </tr>\n  </tbody>\n</table>\n</div>"
     },
     "execution_count": 42,
     "metadata": {},
     "output_type": "execute_result"
    }
   ],
   "source": [
    "x_test"
   ],
   "metadata": {
    "collapsed": false
   }
  },
  {
   "cell_type": "code",
   "execution_count": 43,
   "outputs": [
    {
     "data": {
      "text/plain": "42     4\n184    4\n199    3\n62     4\n76     0\n      ..\n66     0\n23     4\n37     3\n5      3\n143    4\nName: Drug, Length: 150, dtype: int64"
     },
     "execution_count": 43,
     "metadata": {},
     "output_type": "execute_result"
    }
   ],
   "source": [
    "y_train"
   ],
   "metadata": {
    "collapsed": false
   }
  },
  {
   "cell_type": "code",
   "execution_count": 44,
   "outputs": [
    {
     "data": {
      "text/plain": "60     4\n19     4\n127    3\n58     3\n170    3\n172    4\n80     1\n147    0\n129    3\n33     4\n131    4\n182    3\n117    3\n41     1\n83     0\n122    4\n197    3\n145    3\n56     1\n7      2\n109    4\n167    3\n26     4\n124    1\n79     3\n95     3\n181    3\n161    1\n84     2\n53     4\n2      2\n32     3\n31     1\n192    4\n45     3\n1      2\n100    0\n88     4\n17     0\n198    3\n114    3\n61     0\n144    0\n125    4\n67     3\n30     3\n177    4\n155    2\n163    4\n63     3\nName: Drug, dtype: int64"
     },
     "execution_count": 44,
     "metadata": {},
     "output_type": "execute_result"
    }
   ],
   "source": [
    "y_test"
   ],
   "metadata": {
    "collapsed": false
   }
  },
  {
   "cell_type": "code",
   "execution_count": 45,
   "outputs": [
    {
     "name": "stdout",
     "output_type": "stream",
     "text": [
      "Accuracy : 1.0\n"
     ]
    },
    {
     "data": {
      "text/plain": "\u001B[1;31mModel details have not been found\u001B[0m\n",
      "text/html": "<pre style=\"white-space:pre;overflow-x:auto;line-height:normal;font-family:Menlo,'DejaVu Sans Mono',consolas,'Courier New',monospace\"><span style=\"color: #800000; text-decoration-color: #800000; font-weight: bold\">Model details have not been found</span>\n</pre>\n"
     },
     "metadata": {},
     "output_type": "display_data"
    },
    {
     "name": "stdout",
     "output_type": "stream",
     "text": [
      "ReadME file does not exist.\n",
      "Creating an Empty ReadME file\n"
     ]
    },
    {
     "data": {
      "text/plain": "\u001B[1;32mModel has been created!\u001B[0m\n",
      "text/html": "<pre style=\"white-space:pre;overflow-x:auto;line-height:normal;font-family:Menlo,'DejaVu Sans Mono',consolas,'Courier New',monospace\"><span style=\"color: #008000; text-decoration-color: #008000; font-weight: bold\">Model has been created!</span>\n</pre>\n"
     },
     "metadata": {},
     "output_type": "display_data"
    },
    {
     "data": {
      "text/plain": "model_created \u001B[3;92mTrue\u001B[0m\n",
      "text/html": "<pre style=\"white-space:pre;overflow-x:auto;line-height:normal;font-family:Menlo,'DejaVu Sans Mono',consolas,'Courier New',monospace\">model_created <span style=\"color: #00ff00; text-decoration-color: #00ff00; font-style: italic\">True</span>\n</pre>\n"
     },
     "metadata": {},
     "output_type": "display_data"
    },
    {
     "data": {
      "text/plain": "branch_exists \u001B[3;92mTrue\u001B[0m\n",
      "text/html": "<pre style=\"white-space:pre;overflow-x:auto;line-height:normal;font-family:Menlo,'DejaVu Sans Mono',consolas,'Courier New',monospace\">branch_exists <span style=\"color: #00ff00; text-decoration-color: #00ff00; font-style: italic\">True</span>\n</pre>\n"
     },
     "metadata": {},
     "output_type": "display_data"
    },
    {
     "data": {
      "text/plain": "\u001B[1;32mModel has been registered!\u001B[0m\n",
      "text/html": "<pre style=\"white-space:pre;overflow-x:auto;line-height:normal;font-family:Menlo,'DejaVu Sans Mono',consolas,'Courier New',monospace\"><span style=\"color: #008000; text-decoration-color: #008000; font-weight: bold\">Model has been registered!</span>\n</pre>\n"
     },
     "metadata": {},
     "output_type": "display_data"
    },
    {
     "data": {
      "text/plain": "Model Version:  v1\n",
      "text/html": "<pre style=\"white-space:pre;overflow-x:auto;line-height:normal;font-family:Menlo,'DejaVu Sans Mono',consolas,'Courier New',monospace\">Model Version:  v1\n</pre>\n"
     },
     "metadata": {},
     "output_type": "display_data"
    },
    {
     "data": {
      "text/plain": "Model label:  Classification_model:development:v1\n",
      "text/html": "<pre style=\"white-space:pre;overflow-x:auto;line-height:normal;font-family:Menlo,'DejaVu Sans Mono',consolas,'Courier New',monospace\">Model label:  Classification_model:development:v1\n</pre>\n"
     },
     "metadata": {},
     "output_type": "display_data"
    },
    {
     "data": {
      "text/plain": "\u001B[1;32mMetrics have been registered!\u001B[0m\n",
      "text/html": "<pre style=\"white-space:pre;overflow-x:auto;line-height:normal;font-family:Menlo,'DejaVu Sans Mono',consolas,'Courier New',monospace\"><span style=\"color: #008000; text-decoration-color: #008000; font-weight: bold\">Metrics have been registered!</span>\n</pre>\n"
     },
     "metadata": {},
     "output_type": "display_data"
    },
    {
     "name": "stdout",
     "output_type": "stream",
     "text": [
      "No params are found in config\n",
      "No figures are found in config\n"
     ]
    },
    {
     "data": {
      "text/plain": "DecisionTreeClassifier()",
      "text/html": "<style>#sk-container-id-1 {color: black;background-color: white;}#sk-container-id-1 pre{padding: 0;}#sk-container-id-1 div.sk-toggleable {background-color: white;}#sk-container-id-1 label.sk-toggleable__label {cursor: pointer;display: block;width: 100%;margin-bottom: 0;padding: 0.3em;box-sizing: border-box;text-align: center;}#sk-container-id-1 label.sk-toggleable__label-arrow:before {content: \"▸\";float: left;margin-right: 0.25em;color: #696969;}#sk-container-id-1 label.sk-toggleable__label-arrow:hover:before {color: black;}#sk-container-id-1 div.sk-estimator:hover label.sk-toggleable__label-arrow:before {color: black;}#sk-container-id-1 div.sk-toggleable__content {max-height: 0;max-width: 0;overflow: hidden;text-align: left;background-color: #f0f8ff;}#sk-container-id-1 div.sk-toggleable__content pre {margin: 0.2em;color: black;border-radius: 0.25em;background-color: #f0f8ff;}#sk-container-id-1 input.sk-toggleable__control:checked~div.sk-toggleable__content {max-height: 200px;max-width: 100%;overflow: auto;}#sk-container-id-1 input.sk-toggleable__control:checked~label.sk-toggleable__label-arrow:before {content: \"▾\";}#sk-container-id-1 div.sk-estimator input.sk-toggleable__control:checked~label.sk-toggleable__label {background-color: #d4ebff;}#sk-container-id-1 div.sk-label input.sk-toggleable__control:checked~label.sk-toggleable__label {background-color: #d4ebff;}#sk-container-id-1 input.sk-hidden--visually {border: 0;clip: rect(1px 1px 1px 1px);clip: rect(1px, 1px, 1px, 1px);height: 1px;margin: -1px;overflow: hidden;padding: 0;position: absolute;width: 1px;}#sk-container-id-1 div.sk-estimator {font-family: monospace;background-color: #f0f8ff;border: 1px dotted black;border-radius: 0.25em;box-sizing: border-box;margin-bottom: 0.5em;}#sk-container-id-1 div.sk-estimator:hover {background-color: #d4ebff;}#sk-container-id-1 div.sk-parallel-item::after {content: \"\";width: 100%;border-bottom: 1px solid gray;flex-grow: 1;}#sk-container-id-1 div.sk-label:hover label.sk-toggleable__label {background-color: #d4ebff;}#sk-container-id-1 div.sk-serial::before {content: \"\";position: absolute;border-left: 1px solid gray;box-sizing: border-box;top: 0;bottom: 0;left: 50%;z-index: 0;}#sk-container-id-1 div.sk-serial {display: flex;flex-direction: column;align-items: center;background-color: white;padding-right: 0.2em;padding-left: 0.2em;position: relative;}#sk-container-id-1 div.sk-item {position: relative;z-index: 1;}#sk-container-id-1 div.sk-parallel {display: flex;align-items: stretch;justify-content: center;background-color: white;position: relative;}#sk-container-id-1 div.sk-item::before, #sk-container-id-1 div.sk-parallel-item::before {content: \"\";position: absolute;border-left: 1px solid gray;box-sizing: border-box;top: 0;bottom: 0;left: 50%;z-index: -1;}#sk-container-id-1 div.sk-parallel-item {display: flex;flex-direction: column;z-index: 1;position: relative;background-color: white;}#sk-container-id-1 div.sk-parallel-item:first-child::after {align-self: flex-end;width: 50%;}#sk-container-id-1 div.sk-parallel-item:last-child::after {align-self: flex-start;width: 50%;}#sk-container-id-1 div.sk-parallel-item:only-child::after {width: 0;}#sk-container-id-1 div.sk-dashed-wrapped {border: 1px dashed gray;margin: 0 0.4em 0.5em 0.4em;box-sizing: border-box;padding-bottom: 0.4em;background-color: white;}#sk-container-id-1 div.sk-label label {font-family: monospace;font-weight: bold;display: inline-block;line-height: 1.2em;}#sk-container-id-1 div.sk-label-container {text-align: center;}#sk-container-id-1 div.sk-container {/* jupyter's `normalize.less` sets `[hidden] { display: none; }` but bootstrap.min.css set `[hidden] { display: none !important; }` so we also need the `!important` here to be able to override the default hidden behavior on the sphinx rendered scikit-learn.org. See: https://github.com/scikit-learn/scikit-learn/issues/21755 */display: inline-block !important;position: relative;}#sk-container-id-1 div.sk-text-repr-fallback {display: none;}</style><div id=\"sk-container-id-1\" class=\"sk-top-container\"><div class=\"sk-text-repr-fallback\"><pre>DecisionTreeClassifier()</pre><b>In a Jupyter environment, please rerun this cell to show the HTML representation or trust the notebook. <br />On GitHub, the HTML representation is unable to render, please try loading this page with nbviewer.org.</b></div><div class=\"sk-container\" hidden><div class=\"sk-item\"><div class=\"sk-estimator sk-toggleable\"><input class=\"sk-toggleable__control sk-hidden--visually\" id=\"sk-estimator-id-1\" type=\"checkbox\" checked><label for=\"sk-estimator-id-1\" class=\"sk-toggleable__label sk-toggleable__label-arrow\">DecisionTreeClassifier</label><div class=\"sk-toggleable__content\"><pre>DecisionTreeClassifier()</pre></div></div></div></div></div>"
     },
     "execution_count": 45,
     "metadata": {},
     "output_type": "execute_result"
    }
   ],
   "source": [
    "@model(label='Classification_model:development')\n",
    "def create_model():\n",
    "    clf = DecisionTreeClassifier()\n",
    "    clf.fit(x_train,y_train)\n",
    "    y_pred = clf.predict(x_test)\n",
    "    print(f'Accuracy : {accuracy_score(y_test,y_pred)}')\n",
    "    pureml.log(metrics={'Accuracy Score' : accuracy_score(y_test,y_pred)})\n",
    "    return clf\n",
    "create_model()"
   ],
   "metadata": {
    "collapsed": false
   }
  },
  {
   "cell_type": "code",
   "execution_count": 47,
   "outputs": [
    {
     "name": "stdout",
     "output_type": "stream",
     "text": [
      "[4 4 3 3 3 4 1 0 3 4 4 3 3 1 0 4 3 3 1 2 4 3 4 1 3 3 3 1 2 4 2 3 1 4 3 2 0\n",
      " 4 0 3 3 0 0 4 3 3 4 2 4 3]\n",
      "<class 'numpy.ndarray'>\n"
     ]
    }
   ],
   "source": [
    "clf = DecisionTreeClassifier()\n",
    "clf.fit(x_train,y_train)\n",
    "y_pred = clf.predict(x_test)\n",
    "print(y_pred)\n",
    "print(type(y_pred))"
   ],
   "metadata": {
    "collapsed": false
   }
  },
  {
   "cell_type": "code",
   "execution_count": 48,
   "outputs": [
    {
     "data": {
      "text/plain": "DecisionTreeClassifier()",
      "text/html": "<style>#sk-container-id-3 {color: black;background-color: white;}#sk-container-id-3 pre{padding: 0;}#sk-container-id-3 div.sk-toggleable {background-color: white;}#sk-container-id-3 label.sk-toggleable__label {cursor: pointer;display: block;width: 100%;margin-bottom: 0;padding: 0.3em;box-sizing: border-box;text-align: center;}#sk-container-id-3 label.sk-toggleable__label-arrow:before {content: \"▸\";float: left;margin-right: 0.25em;color: #696969;}#sk-container-id-3 label.sk-toggleable__label-arrow:hover:before {color: black;}#sk-container-id-3 div.sk-estimator:hover label.sk-toggleable__label-arrow:before {color: black;}#sk-container-id-3 div.sk-toggleable__content {max-height: 0;max-width: 0;overflow: hidden;text-align: left;background-color: #f0f8ff;}#sk-container-id-3 div.sk-toggleable__content pre {margin: 0.2em;color: black;border-radius: 0.25em;background-color: #f0f8ff;}#sk-container-id-3 input.sk-toggleable__control:checked~div.sk-toggleable__content {max-height: 200px;max-width: 100%;overflow: auto;}#sk-container-id-3 input.sk-toggleable__control:checked~label.sk-toggleable__label-arrow:before {content: \"▾\";}#sk-container-id-3 div.sk-estimator input.sk-toggleable__control:checked~label.sk-toggleable__label {background-color: #d4ebff;}#sk-container-id-3 div.sk-label input.sk-toggleable__control:checked~label.sk-toggleable__label {background-color: #d4ebff;}#sk-container-id-3 input.sk-hidden--visually {border: 0;clip: rect(1px 1px 1px 1px);clip: rect(1px, 1px, 1px, 1px);height: 1px;margin: -1px;overflow: hidden;padding: 0;position: absolute;width: 1px;}#sk-container-id-3 div.sk-estimator {font-family: monospace;background-color: #f0f8ff;border: 1px dotted black;border-radius: 0.25em;box-sizing: border-box;margin-bottom: 0.5em;}#sk-container-id-3 div.sk-estimator:hover {background-color: #d4ebff;}#sk-container-id-3 div.sk-parallel-item::after {content: \"\";width: 100%;border-bottom: 1px solid gray;flex-grow: 1;}#sk-container-id-3 div.sk-label:hover label.sk-toggleable__label {background-color: #d4ebff;}#sk-container-id-3 div.sk-serial::before {content: \"\";position: absolute;border-left: 1px solid gray;box-sizing: border-box;top: 0;bottom: 0;left: 50%;z-index: 0;}#sk-container-id-3 div.sk-serial {display: flex;flex-direction: column;align-items: center;background-color: white;padding-right: 0.2em;padding-left: 0.2em;position: relative;}#sk-container-id-3 div.sk-item {position: relative;z-index: 1;}#sk-container-id-3 div.sk-parallel {display: flex;align-items: stretch;justify-content: center;background-color: white;position: relative;}#sk-container-id-3 div.sk-item::before, #sk-container-id-3 div.sk-parallel-item::before {content: \"\";position: absolute;border-left: 1px solid gray;box-sizing: border-box;top: 0;bottom: 0;left: 50%;z-index: -1;}#sk-container-id-3 div.sk-parallel-item {display: flex;flex-direction: column;z-index: 1;position: relative;background-color: white;}#sk-container-id-3 div.sk-parallel-item:first-child::after {align-self: flex-end;width: 50%;}#sk-container-id-3 div.sk-parallel-item:last-child::after {align-self: flex-start;width: 50%;}#sk-container-id-3 div.sk-parallel-item:only-child::after {width: 0;}#sk-container-id-3 div.sk-dashed-wrapped {border: 1px dashed gray;margin: 0 0.4em 0.5em 0.4em;box-sizing: border-box;padding-bottom: 0.4em;background-color: white;}#sk-container-id-3 div.sk-label label {font-family: monospace;font-weight: bold;display: inline-block;line-height: 1.2em;}#sk-container-id-3 div.sk-label-container {text-align: center;}#sk-container-id-3 div.sk-container {/* jupyter's `normalize.less` sets `[hidden] { display: none; }` but bootstrap.min.css set `[hidden] { display: none !important; }` so we also need the `!important` here to be able to override the default hidden behavior on the sphinx rendered scikit-learn.org. See: https://github.com/scikit-learn/scikit-learn/issues/21755 */display: inline-block !important;position: relative;}#sk-container-id-3 div.sk-text-repr-fallback {display: none;}</style><div id=\"sk-container-id-3\" class=\"sk-top-container\"><div class=\"sk-text-repr-fallback\"><pre>DecisionTreeClassifier()</pre><b>In a Jupyter environment, please rerun this cell to show the HTML representation or trust the notebook. <br />On GitHub, the HTML representation is unable to render, please try loading this page with nbviewer.org.</b></div><div class=\"sk-container\" hidden><div class=\"sk-item\"><div class=\"sk-estimator sk-toggleable\"><input class=\"sk-toggleable__control sk-hidden--visually\" id=\"sk-estimator-id-3\" type=\"checkbox\" checked><label for=\"sk-estimator-id-3\" class=\"sk-toggleable__label sk-toggleable__label-arrow\">DecisionTreeClassifier</label><div class=\"sk-toggleable__content\"><pre>DecisionTreeClassifier()</pre></div></div></div></div></div>"
     },
     "execution_count": 48,
     "metadata": {},
     "output_type": "execute_result"
    }
   ],
   "source": [
    "pureml.model.fetch(label='Classification_model:development:v1')\n"
   ],
   "metadata": {
    "collapsed": false
   }
  },
  {
   "cell_type": "code",
   "execution_count": 49,
   "outputs": [],
   "source": [
    "#Prediction File Creation"
   ],
   "metadata": {
    "collapsed": false
   }
  },
  {
   "cell_type": "code",
   "execution_count": 50,
   "outputs": [
    {
     "data": {
      "text/plain": "\u001B[1;32mPredict Function has been registered!\u001B[0m\n",
      "text/html": "<pre style=\"white-space:pre;overflow-x:auto;line-height:normal;font-family:Menlo,'DejaVu Sans Mono',consolas,'Courier New',monospace\"><span style=\"color: #008000; text-decoration-color: #008000; font-weight: bold\">Predict Function has been registered!</span>\n</pre>\n"
     },
     "metadata": {},
     "output_type": "display_data"
    },
    {
     "data": {
      "text/plain": "\u001B[1m{\u001B[0m\u001B[32m\"status\"\u001B[0m:\u001B[1;36m200\u001B[0m,\u001B[32m\"data\"\u001B[0m:\u001B[1m[\u001B[0m\u001B[1m{\u001B[0m\u001B[32m\"key\"\u001B[0m:\u001B[32m\"predict\"\u001B[0m,\u001B[32m\"data\"\u001B[0m:\u001B[32m\"https://pub-cc8d623e43954c8fa75380adfd3bb762.r2.dev/model-registry/6\u001B[0m\n\u001B[32m266a2b5-6c43-48f1-83cb-27600b10422a/models/35db6ba6-eaae-48f0-bb7b-30b2bb23cb1b/169fe73b-1689-48a2-8ca8-707f4f8aaf2\u001B[0m\n\u001B[32md/logs/predict_eov98v1pVv.txt\"\u001B[0m,\u001B[32m\"model_version\"\u001B[0m:\u001B[1m{\u001B[0m\u001B[32m\"uuid\"\u001B[0m:\u001B[32m\"b51dbaa1-d473-4927-8d63-02eb109750af\"\u001B[0m,\u001B[32m\"version\"\u001B[0m:\u001B[32m\"v1\"\u001B[0m\u001B[1m}\u001B[0m,\u001B[32m\"data\u001B[0m\n\u001B[32mset_version\"\u001B[0m:\u001B[1m{\u001B[0m\u001B[32m\"uuid\"\u001B[0m:\u001B[32m\"00000000-0000-0000-0000-000000000000\"\u001B[0m,\u001B[32m\"version\"\u001B[0m:\u001B[32m\"\"\u001B[0m\u001B[1m}\u001B[0m\u001B[1m}\u001B[0m\u001B[1m]\u001B[0m,\u001B[32m\"message\"\u001B[0m:\u001B[32m\"Logs created\"\u001B[0m\u001B[1m}\u001B[0m\n",
      "text/html": "<pre style=\"white-space:pre;overflow-x:auto;line-height:normal;font-family:Menlo,'DejaVu Sans Mono',consolas,'Courier New',monospace\"><span style=\"font-weight: bold\">{</span><span style=\"color: #008000; text-decoration-color: #008000\">\"status\"</span>:<span style=\"color: #008080; text-decoration-color: #008080; font-weight: bold\">200</span>,<span style=\"color: #008000; text-decoration-color: #008000\">\"data\"</span>:<span style=\"font-weight: bold\">[{</span><span style=\"color: #008000; text-decoration-color: #008000\">\"key\"</span>:<span style=\"color: #008000; text-decoration-color: #008000\">\"predict\"</span>,<span style=\"color: #008000; text-decoration-color: #008000\">\"data\"</span>:<span style=\"color: #008000; text-decoration-color: #008000\">\"https://pub-cc8d623e43954c8fa75380adfd3bb762.r2.dev/model-registry/6</span>\n<span style=\"color: #008000; text-decoration-color: #008000\">266a2b5-6c43-48f1-83cb-27600b10422a/models/35db6ba6-eaae-48f0-bb7b-30b2bb23cb1b/169fe73b-1689-48a2-8ca8-707f4f8aaf2</span>\n<span style=\"color: #008000; text-decoration-color: #008000\">d/logs/predict_eov98v1pVv.txt\"</span>,<span style=\"color: #008000; text-decoration-color: #008000\">\"model_version\"</span>:<span style=\"font-weight: bold\">{</span><span style=\"color: #008000; text-decoration-color: #008000\">\"uuid\"</span>:<span style=\"color: #008000; text-decoration-color: #008000\">\"b51dbaa1-d473-4927-8d63-02eb109750af\"</span>,<span style=\"color: #008000; text-decoration-color: #008000\">\"version\"</span>:<span style=\"color: #008000; text-decoration-color: #008000\">\"v1\"</span><span style=\"font-weight: bold\">}</span>,<span style=\"color: #008000; text-decoration-color: #008000\">\"data</span>\n<span style=\"color: #008000; text-decoration-color: #008000\">set_version\"</span>:<span style=\"font-weight: bold\">{</span><span style=\"color: #008000; text-decoration-color: #008000\">\"uuid\"</span>:<span style=\"color: #008000; text-decoration-color: #008000\">\"00000000-0000-0000-0000-000000000000\"</span>,<span style=\"color: #008000; text-decoration-color: #008000\">\"version\"</span>:<span style=\"color: #008000; text-decoration-color: #008000\">\"\"</span><span style=\"font-weight: bold\">}}]</span>,<span style=\"color: #008000; text-decoration-color: #008000\">\"message\"</span>:<span style=\"color: #008000; text-decoration-color: #008000\">\"Logs created\"</span><span style=\"font-weight: bold\">}</span>\n</pre>\n"
     },
     "metadata": {},
     "output_type": "display_data"
    }
   ],
   "source": [
    "pureml.predict.add(label='Classification_model:development:v1',paths= {'predict': 'predict.py'})"
   ],
   "metadata": {
    "collapsed": false
   }
  },
  {
   "cell_type": "code",
   "execution_count": 51,
   "outputs": [
    {
     "data": {
      "text/plain": "\u001B[1;32m predict file predict.py has been fetched\u001B[0m\n",
      "text/html": "<pre style=\"white-space:pre;overflow-x:auto;line-height:normal;font-family:Menlo,'DejaVu Sans Mono',consolas,'Courier New',monospace\"><span style=\"color: #008000; text-decoration-color: #008000; font-weight: bold\"> predict file predict.py has been fetched</span>\n</pre>\n"
     },
     "metadata": {},
     "output_type": "display_data"
    }
   ],
   "source": [
    "pureml.predict.fetch(label='Classification_model:development:v1')"
   ],
   "metadata": {
    "collapsed": false
   }
  },
  {
   "cell_type": "code",
   "execution_count": 52,
   "outputs": [
    {
     "data": {
      "text/plain": "\u001B[1;32m Succesfully fetched the dataset\u001B[0m\n",
      "text/html": "<pre style=\"white-space:pre;overflow-x:auto;line-height:normal;font-family:Menlo,'DejaVu Sans Mono',consolas,'Courier New',monospace\"><span style=\"color: #008000; text-decoration-color: #008000; font-weight: bold\"> Succesfully fetched the dataset</span>\n</pre>\n"
     },
     "metadata": {},
     "output_type": "display_data"
    },
    {
     "data": {
      "text/plain": "\u001B[1;32m Succesfully fetched the predictor\u001B[0m\n",
      "text/html": "<pre style=\"white-space:pre;overflow-x:auto;line-height:normal;font-family:Menlo,'DejaVu Sans Mono',consolas,'Courier New',monospace\"><span style=\"color: #008000; text-decoration-color: #008000; font-weight: bold\"> Succesfully fetched the predictor</span>\n</pre>\n"
     },
     "metadata": {},
     "output_type": "display_data"
    },
    {
     "data": {
      "text/plain": "\u001B[1;32m Succesfully fetched the model\u001B[0m\n",
      "text/html": "<pre style=\"white-space:pre;overflow-x:auto;line-height:normal;font-family:Menlo,'DejaVu Sans Mono',consolas,'Courier New',monospace\"><span style=\"color: #008000; text-decoration-color: #008000; font-weight: bold\"> Succesfully fetched the model</span>\n</pre>\n"
     },
     "metadata": {},
     "output_type": "display_data"
    },
    {
     "data": {
      "text/plain": "{'accuracy': 1.0,\n 'precision': 1.0,\n 'recall': 1.0,\n 'f1': 1.0,\n 'confusion_matrix': array([[ 6.,  0.,  0.,  0.,  0.],\n        [ 0.,  6.,  0.,  0.,  0.],\n        [ 0.,  0.,  5.,  0.,  0.],\n        [ 0.,  0.,  0., 19.,  0.],\n        [ 0.,  0.,  0.,  0., 14.]])}"
     },
     "execution_count": 52,
     "metadata": {},
     "output_type": "execute_result"
    }
   ],
   "source": [
    "pureml.eval(task_type='classification',\n",
    "            label_model='Classification_model:development:v1',\n",
    "            label_dataset='Classification:development:v8')"
   ],
   "metadata": {
    "collapsed": false
   }
  },
  {
   "cell_type": "code",
   "execution_count": 53,
   "outputs": [],
   "source": [
    "# Creating the Fastpi running"
   ],
   "metadata": {
    "collapsed": false
   }
  },
  {
   "cell_type": "code",
   "execution_count": 55,
   "outputs": [
    {
     "data": {
      "text/plain": "\u001B[1;31m Unable to find the resource\u001B[0m\n",
      "text/html": "<pre style=\"white-space:pre;overflow-x:auto;line-height:normal;font-family:Menlo,'DejaVu Sans Mono',consolas,'Courier New',monospace\"><span style=\"color: #800000; text-decoration-color: #800000; font-weight: bold\"> Unable to find the resource</span>\n</pre>\n"
     },
     "metadata": {},
     "output_type": "display_data"
    },
    {
     "name": "stdout",
     "output_type": "stream",
     "text": [
      "Taking the fetched resources file path\n"
     ]
    },
    {
     "data": {
      "text/plain": "\u001B[1;32m predict file predict.py has been fetched\u001B[0m\n",
      "text/html": "<pre style=\"white-space:pre;overflow-x:auto;line-height:normal;font-family:Menlo,'DejaVu Sans Mono',consolas,'Courier New',monospace\"><span style=\"color: #008000; text-decoration-color: #008000; font-weight: bold\"> predict file predict.py has been fetched</span>\n</pre>\n"
     },
     "metadata": {},
     "output_type": "display_data"
    },
    {
     "name": "stdout",
     "output_type": "stream",
     "text": [
      "Taking the fetched predict.py file path\n"
     ]
    },
    {
     "data": {
      "text/plain": "\u001B[1;31m Unable to find the pip_requirement file\u001B[0m\n",
      "text/html": "<pre style=\"white-space:pre;overflow-x:auto;line-height:normal;font-family:Menlo,'DejaVu Sans Mono',consolas,'Courier New',monospace\"><span style=\"color: #800000; text-decoration-color: #800000; font-weight: bold\"> Unable to find the pip_requirement file</span>\n</pre>\n"
     },
     "metadata": {},
     "output_type": "display_data"
    },
    {
     "name": "stdout",
     "output_type": "stream",
     "text": [
      "Taking the default requirements.txt file path:  D:\\Pureml-Files\\Examples\\ClassificationExample\\requirements.txt\n",
      "FastAPI server files are created\n"
     ]
    }
   ],
   "source": [
    "pureml.fastapi.run(label='Classification_model:development:v1')"
   ],
   "metadata": {
    "collapsed": false
   }
  },
  {
   "cell_type": "code",
   "execution_count": null,
   "outputs": [
    {
     "data": {
      "text/plain": "\u001B[1;31m Unable to find the resource\u001B[0m\n",
      "text/html": "<pre style=\"white-space:pre;overflow-x:auto;line-height:normal;font-family:Menlo,'DejaVu Sans Mono',consolas,'Courier New',monospace\"><span style=\"color: #800000; text-decoration-color: #800000; font-weight: bold\"> Unable to find the resource</span>\n</pre>\n"
     },
     "metadata": {},
     "output_type": "display_data"
    },
    {
     "name": "stdout",
     "output_type": "stream",
     "text": [
      "Taking the fetched resources file path\n"
     ]
    },
    {
     "data": {
      "text/plain": "\u001B[1;32m predict file predict.py has been fetched\u001B[0m\n",
      "text/html": "<pre style=\"white-space:pre;overflow-x:auto;line-height:normal;font-family:Menlo,'DejaVu Sans Mono',consolas,'Courier New',monospace\"><span style=\"color: #008000; text-decoration-color: #008000; font-weight: bold\"> predict file predict.py has been fetched</span>\n</pre>\n"
     },
     "metadata": {},
     "output_type": "display_data"
    },
    {
     "name": "stdout",
     "output_type": "stream",
     "text": [
      "Taking the fetched predict.py file path\n"
     ]
    },
    {
     "data": {
      "text/plain": "\u001B[1;31m Unable to find the pip_requirement file\u001B[0m\n",
      "text/html": "<pre style=\"white-space:pre;overflow-x:auto;line-height:normal;font-family:Menlo,'DejaVu Sans Mono',consolas,'Courier New',monospace\"><span style=\"color: #800000; text-decoration-color: #800000; font-weight: bold\"> Unable to find the pip_requirement file</span>\n</pre>\n"
     },
     "metadata": {},
     "output_type": "display_data"
    },
    {
     "name": "stdout",
     "output_type": "stream",
     "text": [
      "Taking the fetched requirements.txt file path\n",
      "FastAPI server files are created\n"
     ]
    }
   ],
   "source": [
    "import pureml\n",
    "\n",
    "pureml.docker.create(label='Classification_model:development:v1',      # label of the model to be deployed\n",
    "                     env_path='.env',           # path to the .env file\n",
    "                     port=8086,               # port on which the server will run\n",
    "                     sys_commands=[             # any system commands you want to run before starting the server\n",
    "                         \"apt install gcc -y\",\n",
    "                     ])"
   ],
   "metadata": {
    "collapsed": false,
    "pycharm": {
     "is_executing": true
    }
   }
  },
  {
   "cell_type": "code",
   "execution_count": null,
   "outputs": [],
   "source": [],
   "metadata": {
    "collapsed": false
   }
  }
 ],
 "metadata": {
  "kernelspec": {
   "display_name": "Python 3",
   "language": "python",
   "name": "python3"
  },
  "language_info": {
   "codemirror_mode": {
    "name": "ipython",
    "version": 2
   },
   "file_extension": ".py",
   "mimetype": "text/x-python",
   "name": "python",
   "nbconvert_exporter": "python",
   "pygments_lexer": "ipython2",
   "version": "2.7.6"
  }
 },
 "nbformat": 4,
 "nbformat_minor": 0
}
