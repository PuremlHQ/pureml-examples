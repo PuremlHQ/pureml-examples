{
 "cells": [
  {
   "cell_type": "markdown",
   "source": [
    "# Regression Example based on Paris House Price Prediction"
   ],
   "metadata": {
    "collapsed": false
   }
  },
  {
   "cell_type": "code",
   "execution_count": 1,
   "outputs": [],
   "source": [
    "# Step -1: Importing all the required Modules\n",
    "import pureml\n",
    "import pandas as pd\n",
    "from pureml.decorators import load_data"
   ],
   "metadata": {
    "collapsed": false
   }
  },
  {
   "cell_type": "code",
   "execution_count": null,
   "outputs": [],
   "source": [
    "!pureml auth login"
   ],
   "metadata": {
    "collapsed": false
   }
  },
  {
   "cell_type": "code",
   "execution_count": 2,
   "outputs": [
    {
     "name": "stdout",
     "output_type": "stream",
     "text": [
      "          id  squareMeters  numberOfRooms  hasYard  hasPool  floors  cityCode  \\\n",
      "0          0         34291             24        1        0      47     35693   \n",
      "1          1         95145             60        0        1      60     34773   \n",
      "2          2         92661             45        1        1      62     45457   \n",
      "3          3         97184             99        0        0      59     15113   \n",
      "4          4         61752            100        0        0      57     64245   \n",
      "...      ...           ...            ...      ...      ...     ...       ...   \n",
      "22725  22725         55825             84        1        0      70     12031   \n",
      "22726  22726         65870             88        1        0      49     23197   \n",
      "22727  22727         93192             42        1        0      39      8539   \n",
      "22728  22728         65797             86        1        0      89     23197   \n",
      "22729  22729         82244             18        1        0      38     86728   \n",
      "\n",
      "       cityPartRange  numPrevOwners  made  isNewBuilt  hasStormProtector  \\\n",
      "0                  2              1  2000           0                  1   \n",
      "1                  1              4  2000           0                  1   \n",
      "2                  4              8  2020           1                  1   \n",
      "3                  1              1  2000           0                  1   \n",
      "4                  8              4  2018           1                  0   \n",
      "...              ...            ...   ...         ...                ...   \n",
      "22725              3             10  2000           0                  0   \n",
      "22726              9              9  2015           0                  1   \n",
      "22727             10              5  2014           1                  0   \n",
      "22728              2             10  2000           1                  0   \n",
      "22729              1              9  2018           1                  0   \n",
      "\n",
      "       basement  attic  garage  hasStorageRoom  hasGuestRoom      price  \n",
      "0             8   5196     369               0             3  3436795.2  \n",
      "1           729   4496     277               0             6  9519958.0  \n",
      "2          7473   8953     245               1             9  9276448.1  \n",
      "3          6424   8522     256               1             9  9725732.2  \n",
      "4          7151   2786     863               0             7  6181908.8  \n",
      "...         ...    ...     ...             ...           ...        ...  \n",
      "22725      4477    786     345               0             0  5594137.1  \n",
      "22726      4811   2454     755               0             7  6594705.0  \n",
      "22727      5595   4072     789               0             0  9321511.4  \n",
      "22728      5358   2513     411               0             0  6584708.2  \n",
      "22729      6294   1291     572               0             6  8231424.8  \n",
      "\n",
      "[22730 rows x 18 columns]\n"
     ]
    }
   ],
   "source": [
    "# Using Load Function From pureml.decorators\n",
    "@load_data()\n",
    "def load_data():\n",
    "    df = pd.read_csv('data/train.csv') # change the path to your data location\n",
    "    return df\n",
    "data = load_data()\n",
    "print(data)"
   ],
   "metadata": {
    "collapsed": false
   }
  },
  {
   "cell_type": "code",
   "execution_count": 3,
   "outputs": [],
   "source": [
    "from sklearn.model_selection import train_test_split\n",
    "from pureml.decorators import dataset"
   ],
   "metadata": {
    "collapsed": false
   }
  },
  {
   "cell_type": "code",
   "execution_count": 4,
   "outputs": [],
   "source": [
    "#Creating the version of the dataset.\n",
    "@dataset(label='Regression:Example3',upload=True)\n",
    "def create_data():\n",
    "    df = load_data()\n",
    "    features = ['squareMeters', 'numberOfRooms', 'hasYard', 'hasPool', 'cityPartRange', 'cityCode', 'floors',\n",
    "                'numPrevOwners', 'made', 'isNewBuilt',\n",
    "                'hasStormProtector', 'basement', 'attic', 'garage', 'hasStorageRoom', 'hasGuestRoom']\n",
    "    y = df['price']\n",
    "    x_train, x_test, y_train, y_test = train_test_split(df[features], df['price'], random_state=42)\n",
    "    return {\"x_train\": x_train, \"x_test\": x_test, \"y_train\": y_train, \"y_test\": y_test}"
   ],
   "metadata": {
    "collapsed": false
   }
  },
  {
   "cell_type": "code",
   "execution_count": 5,
   "outputs": [
    {
     "data": {
      "text/plain": "\u001B[1;32m Connected to Dataset\u001B[0m\n",
      "text/html": "<pre style=\"white-space:pre;overflow-x:auto;line-height:normal;font-family:Menlo,'DejaVu Sans Mono',consolas,'Courier New',monospace\"><span style=\"color: #008000; text-decoration-color: #008000; font-weight: bold\"> Connected to Dataset</span>\n</pre>\n"
     },
     "metadata": {},
     "output_type": "display_data"
    },
    {
     "data": {
      "text/plain": "\u001B[1;31mBranch details details have not been found\u001B[0m\n",
      "text/html": "<pre style=\"white-space:pre;overflow-x:auto;line-height:normal;font-family:Menlo,'DejaVu Sans Mono',consolas,'Courier New',monospace\"><span style=\"color: #800000; text-decoration-color: #800000; font-weight: bold\">Branch details details have not been found</span>\n</pre>\n"
     },
     "metadata": {},
     "output_type": "display_data"
    },
    {
     "data": {
      "text/plain": "\u001B[1;32mBranch has been created!\u001B[0m\n",
      "text/html": "<pre style=\"white-space:pre;overflow-x:auto;line-height:normal;font-family:Menlo,'DejaVu Sans Mono',consolas,'Courier New',monospace\"><span style=\"color: #008000; text-decoration-color: #008000; font-weight: bold\">Branch has been created!</span>\n</pre>\n"
     },
     "metadata": {},
     "output_type": "display_data"
    },
    {
     "data": {
      "text/plain": "Version:  v1\n",
      "text/html": "<pre style=\"white-space:pre;overflow-x:auto;line-height:normal;font-family:Menlo,'DejaVu Sans Mono',consolas,'Courier New',monospace\">Version:  v1\n</pre>\n"
     },
     "metadata": {},
     "output_type": "display_data"
    },
    {
     "data": {
      "text/plain": "Dataset label:  Regression:Example3:v1\n",
      "text/html": "<pre style=\"white-space:pre;overflow-x:auto;line-height:normal;font-family:Menlo,'DejaVu Sans Mono',consolas,'Courier New',monospace\">Dataset label:  Regression:Example3:v1\n</pre>\n"
     },
     "metadata": {},
     "output_type": "display_data"
    },
    {
     "data": {
      "text/plain": "\u001B[1;32mDataset and lineage have been registered!\u001B[0m\n",
      "text/html": "<pre style=\"white-space:pre;overflow-x:auto;line-height:normal;font-family:Menlo,'DejaVu Sans Mono',consolas,'Courier New',monospace\"><span style=\"color: #008000; text-decoration-color: #008000; font-weight: bold\">Dataset and lineage have been registered!</span>\n</pre>\n"
     },
     "metadata": {},
     "output_type": "display_data"
    },
    {
     "data": {
      "text/plain": "{'x_train':        squareMeters  numberOfRooms  hasYard  hasPool  cityPartRange  cityCode  \\\n 5848           7477             42        0        1              5     26153   \n 4021          40214             71        1        0              7     98833   \n 20121         57718             64        1        1              6     51111   \n 17311         20658              6        0        0              1     80216   \n 22111         61104             50        1        1              4     50452   \n ...             ...            ...      ...      ...            ...       ...   \n 11964         40760             87        0        0              2      3812   \n 21575         20075             20        1        1              5     14628   \n 5390          72772             15        0        0              9     38639   \n 860           32060             56        0        1              8     68761   \n 15795         45070            100        1        0              8     32535   \n \n        floors  numPrevOwners  made  isNewBuilt  hasStormProtector  basement  \\\n 5848       77              7  2020           1                  0      3233   \n 4021       69              8  2005           1                  0      6957   \n 20121       9              1  1993           1                  0      6434   \n 17311      48              2  1997           0                  1      7165   \n 22111      78              4  1997           0                  0      6834   \n ...       ...            ...   ...         ...                ...       ...   \n 11964      34              9  2000           0                  0      8787   \n 21575      85              2  2010           0                  0      5473   \n 5390       26              3  2006           1                  1      4304   \n 860        38              8  2007           1                  0      4286   \n 15795      17              5  1997           0                  0       924   \n \n        attic  garage  hasStorageRoom  hasGuestRoom  \n 5848    4102     747               0             0  \n 4021    3629     615               0             3  \n 20121   5342     563               1             1  \n 17311   1005     161               1             9  \n 22111    467     133               0             2  \n ...      ...     ...             ...           ...  \n 11964    422     307               0             4  \n 21575     13     139               0             5  \n 5390    8353     529               0             1  \n 860     6867     805               1             8  \n 15795    989     585               0             0  \n \n [17047 rows x 16 columns],\n 'x_test':        squareMeters  numberOfRooms  hasYard  hasPool  cityPartRange  cityCode  \\\n 1087          50673              9        1        0              3     88441   \n 6377          75848             26        1        1              9     22796   \n 4153          89637             48        0        0              4     19556   \n 19452         71824             10        0        0              7     58542   \n 10043         99886             46        0        1              4     34373   \n ...             ...            ...      ...      ...            ...       ...   \n 12371         58657             69        1        1              2     16152   \n 7725          82525             38        0        0              6      5079   \n 10714         56885             80        1        1              1     75459   \n 5453          45179             78        0        1              9     58110   \n 5230          19410             26        0        1             10     28574   \n \n        floors  numPrevOwners  made  isNewBuilt  hasStormProtector  basement  \\\n 1087       67              3  2015           0                  1      3836   \n 6377       17              2  2017           0                  0      6974   \n 4153       80              8  2006           1                  0      5481   \n 19452      50              1  1997           0                  1      4901   \n 10043      32              9  2003           1                  1      4516   \n ...       ...            ...   ...         ...                ...       ...   \n 12371      89              7  2003           0                  1      7712   \n 7725       88              7  2008           1                  1      4674   \n 10714      80              6  2020           1                  1       729   \n 5453       41              8  2015           1                  1       168   \n 5230       41              3  2004           0                  1      6834   \n \n        attic  garage  hasStorageRoom  hasGuestRoom  \n 1087    9274     192               0             6  \n 6377     771     431               0             7  \n 4153    2516     112               1             4  \n 19452   3635     313               1             0  \n 10043   7789     241               0             2  \n ...      ...     ...             ...           ...  \n 12371   9572     974               1             2  \n 7725    3909     946               1             4  \n 10714    478     155               0             7  \n 5453    6521     612               0             4  \n 5230    3528     216               1             8  \n \n [5683 rows x 16 columns],\n 'y_train': 5848      752083.1\n 4021     4028553.5\n 20121    5781612.3\n 17311    2076936.7\n 22111    6124108.7\n            ...    \n 11964    4080383.1\n 21575    2010227.0\n 5390     7280658.6\n 860      3211741.7\n 15795    4510977.7\n Name: price, Length: 17047, dtype: float64,\n 'y_test': 1087     5076210.5\n 6377     7591705.7\n 4153     8967748.6\n 19452    7190229.7\n 10043    9999687.3\n            ...    \n 12371    5867038.3\n 7725     8258910.8\n 10714    5699848.1\n 5453     4519301.5\n 5230     1949922.4\n Name: price, Length: 5683, dtype: float64}"
     },
     "execution_count": 5,
     "metadata": {},
     "output_type": "execute_result"
    }
   ],
   "source": [
    "create_data()"
   ],
   "metadata": {
    "collapsed": false
   }
  },
  {
   "cell_type": "code",
   "execution_count": 6,
   "outputs": [],
   "source": [
    "df = pureml.dataset.fetch('Regression:Example3:v1')\n",
    "x_test = df['x_test']\n",
    "y_test = df['y_test']\n",
    "x_train= df['x_train']\n",
    "y_train = df['y_train']"
   ],
   "metadata": {
    "collapsed": false
   }
  },
  {
   "cell_type": "code",
   "execution_count": 7,
   "outputs": [
    {
     "data": {
      "text/plain": "       squareMeters  numberOfRooms  hasYard  hasPool  cityPartRange  cityCode  \\\n1087          50673              9        1        0              3     88441   \n6377          75848             26        1        1              9     22796   \n4153          89637             48        0        0              4     19556   \n19452         71824             10        0        0              7     58542   \n10043         99886             46        0        1              4     34373   \n...             ...            ...      ...      ...            ...       ...   \n12371         58657             69        1        1              2     16152   \n7725          82525             38        0        0              6      5079   \n10714         56885             80        1        1              1     75459   \n5453          45179             78        0        1              9     58110   \n5230          19410             26        0        1             10     28574   \n\n       floors  numPrevOwners  made  isNewBuilt  hasStormProtector  basement  \\\n1087       67              3  2015           0                  1      3836   \n6377       17              2  2017           0                  0      6974   \n4153       80              8  2006           1                  0      5481   \n19452      50              1  1997           0                  1      4901   \n10043      32              9  2003           1                  1      4516   \n...       ...            ...   ...         ...                ...       ...   \n12371      89              7  2003           0                  1      7712   \n7725       88              7  2008           1                  1      4674   \n10714      80              6  2020           1                  1       729   \n5453       41              8  2015           1                  1       168   \n5230       41              3  2004           0                  1      6834   \n\n       attic  garage  hasStorageRoom  hasGuestRoom  \n1087    9274     192               0             6  \n6377     771     431               0             7  \n4153    2516     112               1             4  \n19452   3635     313               1             0  \n10043   7789     241               0             2  \n...      ...     ...             ...           ...  \n12371   9572     974               1             2  \n7725    3909     946               1             4  \n10714    478     155               0             7  \n5453    6521     612               0             4  \n5230    3528     216               1             8  \n\n[5683 rows x 16 columns]",
      "text/html": "<div>\n<style scoped>\n    .dataframe tbody tr th:only-of-type {\n        vertical-align: middle;\n    }\n\n    .dataframe tbody tr th {\n        vertical-align: top;\n    }\n\n    .dataframe thead th {\n        text-align: right;\n    }\n</style>\n<table border=\"1\" class=\"dataframe\">\n  <thead>\n    <tr style=\"text-align: right;\">\n      <th></th>\n      <th>squareMeters</th>\n      <th>numberOfRooms</th>\n      <th>hasYard</th>\n      <th>hasPool</th>\n      <th>cityPartRange</th>\n      <th>cityCode</th>\n      <th>floors</th>\n      <th>numPrevOwners</th>\n      <th>made</th>\n      <th>isNewBuilt</th>\n      <th>hasStormProtector</th>\n      <th>basement</th>\n      <th>attic</th>\n      <th>garage</th>\n      <th>hasStorageRoom</th>\n      <th>hasGuestRoom</th>\n    </tr>\n  </thead>\n  <tbody>\n    <tr>\n      <th>1087</th>\n      <td>50673</td>\n      <td>9</td>\n      <td>1</td>\n      <td>0</td>\n      <td>3</td>\n      <td>88441</td>\n      <td>67</td>\n      <td>3</td>\n      <td>2015</td>\n      <td>0</td>\n      <td>1</td>\n      <td>3836</td>\n      <td>9274</td>\n      <td>192</td>\n      <td>0</td>\n      <td>6</td>\n    </tr>\n    <tr>\n      <th>6377</th>\n      <td>75848</td>\n      <td>26</td>\n      <td>1</td>\n      <td>1</td>\n      <td>9</td>\n      <td>22796</td>\n      <td>17</td>\n      <td>2</td>\n      <td>2017</td>\n      <td>0</td>\n      <td>0</td>\n      <td>6974</td>\n      <td>771</td>\n      <td>431</td>\n      <td>0</td>\n      <td>7</td>\n    </tr>\n    <tr>\n      <th>4153</th>\n      <td>89637</td>\n      <td>48</td>\n      <td>0</td>\n      <td>0</td>\n      <td>4</td>\n      <td>19556</td>\n      <td>80</td>\n      <td>8</td>\n      <td>2006</td>\n      <td>1</td>\n      <td>0</td>\n      <td>5481</td>\n      <td>2516</td>\n      <td>112</td>\n      <td>1</td>\n      <td>4</td>\n    </tr>\n    <tr>\n      <th>19452</th>\n      <td>71824</td>\n      <td>10</td>\n      <td>0</td>\n      <td>0</td>\n      <td>7</td>\n      <td>58542</td>\n      <td>50</td>\n      <td>1</td>\n      <td>1997</td>\n      <td>0</td>\n      <td>1</td>\n      <td>4901</td>\n      <td>3635</td>\n      <td>313</td>\n      <td>1</td>\n      <td>0</td>\n    </tr>\n    <tr>\n      <th>10043</th>\n      <td>99886</td>\n      <td>46</td>\n      <td>0</td>\n      <td>1</td>\n      <td>4</td>\n      <td>34373</td>\n      <td>32</td>\n      <td>9</td>\n      <td>2003</td>\n      <td>1</td>\n      <td>1</td>\n      <td>4516</td>\n      <td>7789</td>\n      <td>241</td>\n      <td>0</td>\n      <td>2</td>\n    </tr>\n    <tr>\n      <th>...</th>\n      <td>...</td>\n      <td>...</td>\n      <td>...</td>\n      <td>...</td>\n      <td>...</td>\n      <td>...</td>\n      <td>...</td>\n      <td>...</td>\n      <td>...</td>\n      <td>...</td>\n      <td>...</td>\n      <td>...</td>\n      <td>...</td>\n      <td>...</td>\n      <td>...</td>\n      <td>...</td>\n    </tr>\n    <tr>\n      <th>12371</th>\n      <td>58657</td>\n      <td>69</td>\n      <td>1</td>\n      <td>1</td>\n      <td>2</td>\n      <td>16152</td>\n      <td>89</td>\n      <td>7</td>\n      <td>2003</td>\n      <td>0</td>\n      <td>1</td>\n      <td>7712</td>\n      <td>9572</td>\n      <td>974</td>\n      <td>1</td>\n      <td>2</td>\n    </tr>\n    <tr>\n      <th>7725</th>\n      <td>82525</td>\n      <td>38</td>\n      <td>0</td>\n      <td>0</td>\n      <td>6</td>\n      <td>5079</td>\n      <td>88</td>\n      <td>7</td>\n      <td>2008</td>\n      <td>1</td>\n      <td>1</td>\n      <td>4674</td>\n      <td>3909</td>\n      <td>946</td>\n      <td>1</td>\n      <td>4</td>\n    </tr>\n    <tr>\n      <th>10714</th>\n      <td>56885</td>\n      <td>80</td>\n      <td>1</td>\n      <td>1</td>\n      <td>1</td>\n      <td>75459</td>\n      <td>80</td>\n      <td>6</td>\n      <td>2020</td>\n      <td>1</td>\n      <td>1</td>\n      <td>729</td>\n      <td>478</td>\n      <td>155</td>\n      <td>0</td>\n      <td>7</td>\n    </tr>\n    <tr>\n      <th>5453</th>\n      <td>45179</td>\n      <td>78</td>\n      <td>0</td>\n      <td>1</td>\n      <td>9</td>\n      <td>58110</td>\n      <td>41</td>\n      <td>8</td>\n      <td>2015</td>\n      <td>1</td>\n      <td>1</td>\n      <td>168</td>\n      <td>6521</td>\n      <td>612</td>\n      <td>0</td>\n      <td>4</td>\n    </tr>\n    <tr>\n      <th>5230</th>\n      <td>19410</td>\n      <td>26</td>\n      <td>0</td>\n      <td>1</td>\n      <td>10</td>\n      <td>28574</td>\n      <td>41</td>\n      <td>3</td>\n      <td>2004</td>\n      <td>0</td>\n      <td>1</td>\n      <td>6834</td>\n      <td>3528</td>\n      <td>216</td>\n      <td>1</td>\n      <td>8</td>\n    </tr>\n  </tbody>\n</table>\n<p>5683 rows × 16 columns</p>\n</div>"
     },
     "execution_count": 7,
     "metadata": {},
     "output_type": "execute_result"
    }
   ],
   "source": [
    "x_test"
   ],
   "metadata": {
    "collapsed": false
   }
  },
  {
   "cell_type": "code",
   "execution_count": 8,
   "outputs": [
    {
     "data": {
      "text/plain": "1087     5076210.5\n6377     7591705.7\n4153     8967748.6\n19452    7190229.7\n10043    9999687.3\n           ...    \n12371    5867038.3\n7725     8258910.8\n10714    5699848.1\n5453     4519301.5\n5230     1949922.4\nName: price, Length: 5683, dtype: float64"
     },
     "execution_count": 8,
     "metadata": {},
     "output_type": "execute_result"
    }
   ],
   "source": [
    "y_test"
   ],
   "metadata": {
    "collapsed": false
   }
  },
  {
   "cell_type": "code",
   "execution_count": 9,
   "outputs": [
    {
     "data": {
      "text/plain": "       squareMeters  numberOfRooms  hasYard  hasPool  cityPartRange  cityCode  \\\n5848           7477             42        0        1              5     26153   \n4021          40214             71        1        0              7     98833   \n20121         57718             64        1        1              6     51111   \n17311         20658              6        0        0              1     80216   \n22111         61104             50        1        1              4     50452   \n...             ...            ...      ...      ...            ...       ...   \n11964         40760             87        0        0              2      3812   \n21575         20075             20        1        1              5     14628   \n5390          72772             15        0        0              9     38639   \n860           32060             56        0        1              8     68761   \n15795         45070            100        1        0              8     32535   \n\n       floors  numPrevOwners  made  isNewBuilt  hasStormProtector  basement  \\\n5848       77              7  2020           1                  0      3233   \n4021       69              8  2005           1                  0      6957   \n20121       9              1  1993           1                  0      6434   \n17311      48              2  1997           0                  1      7165   \n22111      78              4  1997           0                  0      6834   \n...       ...            ...   ...         ...                ...       ...   \n11964      34              9  2000           0                  0      8787   \n21575      85              2  2010           0                  0      5473   \n5390       26              3  2006           1                  1      4304   \n860        38              8  2007           1                  0      4286   \n15795      17              5  1997           0                  0       924   \n\n       attic  garage  hasStorageRoom  hasGuestRoom  \n5848    4102     747               0             0  \n4021    3629     615               0             3  \n20121   5342     563               1             1  \n17311   1005     161               1             9  \n22111    467     133               0             2  \n...      ...     ...             ...           ...  \n11964    422     307               0             4  \n21575     13     139               0             5  \n5390    8353     529               0             1  \n860     6867     805               1             8  \n15795    989     585               0             0  \n\n[17047 rows x 16 columns]",
      "text/html": "<div>\n<style scoped>\n    .dataframe tbody tr th:only-of-type {\n        vertical-align: middle;\n    }\n\n    .dataframe tbody tr th {\n        vertical-align: top;\n    }\n\n    .dataframe thead th {\n        text-align: right;\n    }\n</style>\n<table border=\"1\" class=\"dataframe\">\n  <thead>\n    <tr style=\"text-align: right;\">\n      <th></th>\n      <th>squareMeters</th>\n      <th>numberOfRooms</th>\n      <th>hasYard</th>\n      <th>hasPool</th>\n      <th>cityPartRange</th>\n      <th>cityCode</th>\n      <th>floors</th>\n      <th>numPrevOwners</th>\n      <th>made</th>\n      <th>isNewBuilt</th>\n      <th>hasStormProtector</th>\n      <th>basement</th>\n      <th>attic</th>\n      <th>garage</th>\n      <th>hasStorageRoom</th>\n      <th>hasGuestRoom</th>\n    </tr>\n  </thead>\n  <tbody>\n    <tr>\n      <th>5848</th>\n      <td>7477</td>\n      <td>42</td>\n      <td>0</td>\n      <td>1</td>\n      <td>5</td>\n      <td>26153</td>\n      <td>77</td>\n      <td>7</td>\n      <td>2020</td>\n      <td>1</td>\n      <td>0</td>\n      <td>3233</td>\n      <td>4102</td>\n      <td>747</td>\n      <td>0</td>\n      <td>0</td>\n    </tr>\n    <tr>\n      <th>4021</th>\n      <td>40214</td>\n      <td>71</td>\n      <td>1</td>\n      <td>0</td>\n      <td>7</td>\n      <td>98833</td>\n      <td>69</td>\n      <td>8</td>\n      <td>2005</td>\n      <td>1</td>\n      <td>0</td>\n      <td>6957</td>\n      <td>3629</td>\n      <td>615</td>\n      <td>0</td>\n      <td>3</td>\n    </tr>\n    <tr>\n      <th>20121</th>\n      <td>57718</td>\n      <td>64</td>\n      <td>1</td>\n      <td>1</td>\n      <td>6</td>\n      <td>51111</td>\n      <td>9</td>\n      <td>1</td>\n      <td>1993</td>\n      <td>1</td>\n      <td>0</td>\n      <td>6434</td>\n      <td>5342</td>\n      <td>563</td>\n      <td>1</td>\n      <td>1</td>\n    </tr>\n    <tr>\n      <th>17311</th>\n      <td>20658</td>\n      <td>6</td>\n      <td>0</td>\n      <td>0</td>\n      <td>1</td>\n      <td>80216</td>\n      <td>48</td>\n      <td>2</td>\n      <td>1997</td>\n      <td>0</td>\n      <td>1</td>\n      <td>7165</td>\n      <td>1005</td>\n      <td>161</td>\n      <td>1</td>\n      <td>9</td>\n    </tr>\n    <tr>\n      <th>22111</th>\n      <td>61104</td>\n      <td>50</td>\n      <td>1</td>\n      <td>1</td>\n      <td>4</td>\n      <td>50452</td>\n      <td>78</td>\n      <td>4</td>\n      <td>1997</td>\n      <td>0</td>\n      <td>0</td>\n      <td>6834</td>\n      <td>467</td>\n      <td>133</td>\n      <td>0</td>\n      <td>2</td>\n    </tr>\n    <tr>\n      <th>...</th>\n      <td>...</td>\n      <td>...</td>\n      <td>...</td>\n      <td>...</td>\n      <td>...</td>\n      <td>...</td>\n      <td>...</td>\n      <td>...</td>\n      <td>...</td>\n      <td>...</td>\n      <td>...</td>\n      <td>...</td>\n      <td>...</td>\n      <td>...</td>\n      <td>...</td>\n      <td>...</td>\n    </tr>\n    <tr>\n      <th>11964</th>\n      <td>40760</td>\n      <td>87</td>\n      <td>0</td>\n      <td>0</td>\n      <td>2</td>\n      <td>3812</td>\n      <td>34</td>\n      <td>9</td>\n      <td>2000</td>\n      <td>0</td>\n      <td>0</td>\n      <td>8787</td>\n      <td>422</td>\n      <td>307</td>\n      <td>0</td>\n      <td>4</td>\n    </tr>\n    <tr>\n      <th>21575</th>\n      <td>20075</td>\n      <td>20</td>\n      <td>1</td>\n      <td>1</td>\n      <td>5</td>\n      <td>14628</td>\n      <td>85</td>\n      <td>2</td>\n      <td>2010</td>\n      <td>0</td>\n      <td>0</td>\n      <td>5473</td>\n      <td>13</td>\n      <td>139</td>\n      <td>0</td>\n      <td>5</td>\n    </tr>\n    <tr>\n      <th>5390</th>\n      <td>72772</td>\n      <td>15</td>\n      <td>0</td>\n      <td>0</td>\n      <td>9</td>\n      <td>38639</td>\n      <td>26</td>\n      <td>3</td>\n      <td>2006</td>\n      <td>1</td>\n      <td>1</td>\n      <td>4304</td>\n      <td>8353</td>\n      <td>529</td>\n      <td>0</td>\n      <td>1</td>\n    </tr>\n    <tr>\n      <th>860</th>\n      <td>32060</td>\n      <td>56</td>\n      <td>0</td>\n      <td>1</td>\n      <td>8</td>\n      <td>68761</td>\n      <td>38</td>\n      <td>8</td>\n      <td>2007</td>\n      <td>1</td>\n      <td>0</td>\n      <td>4286</td>\n      <td>6867</td>\n      <td>805</td>\n      <td>1</td>\n      <td>8</td>\n    </tr>\n    <tr>\n      <th>15795</th>\n      <td>45070</td>\n      <td>100</td>\n      <td>1</td>\n      <td>0</td>\n      <td>8</td>\n      <td>32535</td>\n      <td>17</td>\n      <td>5</td>\n      <td>1997</td>\n      <td>0</td>\n      <td>0</td>\n      <td>924</td>\n      <td>989</td>\n      <td>585</td>\n      <td>0</td>\n      <td>0</td>\n    </tr>\n  </tbody>\n</table>\n<p>17047 rows × 16 columns</p>\n</div>"
     },
     "execution_count": 9,
     "metadata": {},
     "output_type": "execute_result"
    }
   ],
   "source": [
    "x_train"
   ],
   "metadata": {
    "collapsed": false
   }
  },
  {
   "cell_type": "code",
   "execution_count": 10,
   "outputs": [
    {
     "data": {
      "text/plain": "5848      752083.1\n4021     4028553.5\n20121    5781612.3\n17311    2076936.7\n22111    6124108.7\n           ...    \n11964    4080383.1\n21575    2010227.0\n5390     7280658.6\n860      3211741.7\n15795    4510977.7\nName: price, Length: 17047, dtype: float64"
     },
     "execution_count": 10,
     "metadata": {},
     "output_type": "execute_result"
    }
   ],
   "source": [
    "y_train"
   ],
   "metadata": {
    "collapsed": false
   }
  },
  {
   "cell_type": "code",
   "execution_count": 11,
   "outputs": [],
   "source": [
    "from pureml.decorators import model"
   ],
   "metadata": {
    "collapsed": false
   }
  },
  {
   "cell_type": "code",
   "execution_count": 12,
   "outputs": [],
   "source": [
    "import xgboost as xgb\n",
    "from sklearn.metrics import mean_squared_error\n",
    "import numpy as np"
   ],
   "metadata": {
    "collapsed": false
   }
  },
  {
   "cell_type": "code",
   "execution_count": 13,
   "outputs": [
    {
     "name": "stdout",
     "output_type": "stream",
     "text": [
      "RMSE: 161026.14193028354\n"
     ]
    },
    {
     "data": {
      "text/plain": "\u001B[1;31mBranch details details have not been found\u001B[0m\n",
      "text/html": "<pre style=\"white-space:pre;overflow-x:auto;line-height:normal;font-family:Menlo,'DejaVu Sans Mono',consolas,'Courier New',monospace\"><span style=\"color: #800000; text-decoration-color: #800000; font-weight: bold\">Branch details details have not been found</span>\n</pre>\n"
     },
     "metadata": {},
     "output_type": "display_data"
    },
    {
     "data": {
      "text/plain": "branch_exists \u001B[3;91mFalse\u001B[0m\n",
      "text/html": "<pre style=\"white-space:pre;overflow-x:auto;line-height:normal;font-family:Menlo,'DejaVu Sans Mono',consolas,'Courier New',monospace\">branch_exists <span style=\"color: #ff0000; text-decoration-color: #ff0000; font-style: italic\">False</span>\n</pre>\n"
     },
     "metadata": {},
     "output_type": "display_data"
    },
    {
     "data": {
      "text/plain": "\u001B[1;32mBranch has been created!\u001B[0m\n",
      "text/html": "<pre style=\"white-space:pre;overflow-x:auto;line-height:normal;font-family:Menlo,'DejaVu Sans Mono',consolas,'Courier New',monospace\"><span style=\"color: #008000; text-decoration-color: #008000; font-weight: bold\">Branch has been created!</span>\n</pre>\n"
     },
     "metadata": {},
     "output_type": "display_data"
    },
    {
     "data": {
      "text/plain": "branch_created \u001B[3;92mTrue\u001B[0m\n",
      "text/html": "<pre style=\"white-space:pre;overflow-x:auto;line-height:normal;font-family:Menlo,'DejaVu Sans Mono',consolas,'Courier New',monospace\">branch_created <span style=\"color: #00ff00; text-decoration-color: #00ff00; font-style: italic\">True</span>\n</pre>\n"
     },
     "metadata": {},
     "output_type": "display_data"
    },
    {
     "data": {
      "text/plain": "\u001B[1;32mModel has been registered!\u001B[0m\n",
      "text/html": "<pre style=\"white-space:pre;overflow-x:auto;line-height:normal;font-family:Menlo,'DejaVu Sans Mono',consolas,'Courier New',monospace\"><span style=\"color: #008000; text-decoration-color: #008000; font-weight: bold\">Model has been registered!</span>\n</pre>\n"
     },
     "metadata": {},
     "output_type": "display_data"
    },
    {
     "data": {
      "text/plain": "Model Version:  v1\n",
      "text/html": "<pre style=\"white-space:pre;overflow-x:auto;line-height:normal;font-family:Menlo,'DejaVu Sans Mono',consolas,'Courier New',monospace\">Model Version:  v1\n</pre>\n"
     },
     "metadata": {},
     "output_type": "display_data"
    },
    {
     "data": {
      "text/plain": "Model label:  Regression_example_1_model:development2:v1\n",
      "text/html": "<pre style=\"white-space:pre;overflow-x:auto;line-height:normal;font-family:Menlo,'DejaVu Sans Mono',consolas,'Courier New',monospace\">Model label:  Regression_example_1_model:development2:v1\n</pre>\n"
     },
     "metadata": {},
     "output_type": "display_data"
    },
    {
     "data": {
      "text/plain": "\u001B[1;32mMetrics have been registered!\u001B[0m\n",
      "text/html": "<pre style=\"white-space:pre;overflow-x:auto;line-height:normal;font-family:Menlo,'DejaVu Sans Mono',consolas,'Courier New',monospace\"><span style=\"color: #008000; text-decoration-color: #008000; font-weight: bold\">Metrics have been registered!</span>\n</pre>\n"
     },
     "metadata": {},
     "output_type": "display_data"
    },
    {
     "name": "stdout",
     "output_type": "stream",
     "text": [
      "No params are found in config\n",
      "No figures are found in config\n"
     ]
    },
    {
     "data": {
      "text/plain": "XGBRegressor(base_score=None, booster='gbtree', callbacks=None,\n             colsample_bylevel=None, colsample_bynode=None, colsample_bytree=1,\n             early_stopping_rounds=None, enable_categorical=False,\n             eval_metric=None, feature_types=None, gamma=1, gpu_id=None,\n             grow_policy=None, importance_type=None,\n             interaction_constraints=None, learning_rate=0.11, max_bin=None,\n             max_cat_threshold=None, max_cat_to_onehot=None,\n             max_delta_step=None, max_depth=4, max_leaves=None,\n             min_child_weight=2, missing=nan, monotone_constraints=None,\n             n_estimators=77, n_jobs=None, num_parallel_tree=None,\n             predictor=None, random_state=None, ...)",
      "text/html": "<style>#sk-container-id-1 {color: black;background-color: white;}#sk-container-id-1 pre{padding: 0;}#sk-container-id-1 div.sk-toggleable {background-color: white;}#sk-container-id-1 label.sk-toggleable__label {cursor: pointer;display: block;width: 100%;margin-bottom: 0;padding: 0.3em;box-sizing: border-box;text-align: center;}#sk-container-id-1 label.sk-toggleable__label-arrow:before {content: \"▸\";float: left;margin-right: 0.25em;color: #696969;}#sk-container-id-1 label.sk-toggleable__label-arrow:hover:before {color: black;}#sk-container-id-1 div.sk-estimator:hover label.sk-toggleable__label-arrow:before {color: black;}#sk-container-id-1 div.sk-toggleable__content {max-height: 0;max-width: 0;overflow: hidden;text-align: left;background-color: #f0f8ff;}#sk-container-id-1 div.sk-toggleable__content pre {margin: 0.2em;color: black;border-radius: 0.25em;background-color: #f0f8ff;}#sk-container-id-1 input.sk-toggleable__control:checked~div.sk-toggleable__content {max-height: 200px;max-width: 100%;overflow: auto;}#sk-container-id-1 input.sk-toggleable__control:checked~label.sk-toggleable__label-arrow:before {content: \"▾\";}#sk-container-id-1 div.sk-estimator input.sk-toggleable__control:checked~label.sk-toggleable__label {background-color: #d4ebff;}#sk-container-id-1 div.sk-label input.sk-toggleable__control:checked~label.sk-toggleable__label {background-color: #d4ebff;}#sk-container-id-1 input.sk-hidden--visually {border: 0;clip: rect(1px 1px 1px 1px);clip: rect(1px, 1px, 1px, 1px);height: 1px;margin: -1px;overflow: hidden;padding: 0;position: absolute;width: 1px;}#sk-container-id-1 div.sk-estimator {font-family: monospace;background-color: #f0f8ff;border: 1px dotted black;border-radius: 0.25em;box-sizing: border-box;margin-bottom: 0.5em;}#sk-container-id-1 div.sk-estimator:hover {background-color: #d4ebff;}#sk-container-id-1 div.sk-parallel-item::after {content: \"\";width: 100%;border-bottom: 1px solid gray;flex-grow: 1;}#sk-container-id-1 div.sk-label:hover label.sk-toggleable__label {background-color: #d4ebff;}#sk-container-id-1 div.sk-serial::before {content: \"\";position: absolute;border-left: 1px solid gray;box-sizing: border-box;top: 0;bottom: 0;left: 50%;z-index: 0;}#sk-container-id-1 div.sk-serial {display: flex;flex-direction: column;align-items: center;background-color: white;padding-right: 0.2em;padding-left: 0.2em;position: relative;}#sk-container-id-1 div.sk-item {position: relative;z-index: 1;}#sk-container-id-1 div.sk-parallel {display: flex;align-items: stretch;justify-content: center;background-color: white;position: relative;}#sk-container-id-1 div.sk-item::before, #sk-container-id-1 div.sk-parallel-item::before {content: \"\";position: absolute;border-left: 1px solid gray;box-sizing: border-box;top: 0;bottom: 0;left: 50%;z-index: -1;}#sk-container-id-1 div.sk-parallel-item {display: flex;flex-direction: column;z-index: 1;position: relative;background-color: white;}#sk-container-id-1 div.sk-parallel-item:first-child::after {align-self: flex-end;width: 50%;}#sk-container-id-1 div.sk-parallel-item:last-child::after {align-self: flex-start;width: 50%;}#sk-container-id-1 div.sk-parallel-item:only-child::after {width: 0;}#sk-container-id-1 div.sk-dashed-wrapped {border: 1px dashed gray;margin: 0 0.4em 0.5em 0.4em;box-sizing: border-box;padding-bottom: 0.4em;background-color: white;}#sk-container-id-1 div.sk-label label {font-family: monospace;font-weight: bold;display: inline-block;line-height: 1.2em;}#sk-container-id-1 div.sk-label-container {text-align: center;}#sk-container-id-1 div.sk-container {/* jupyter's `normalize.less` sets `[hidden] { display: none; }` but bootstrap.min.css set `[hidden] { display: none !important; }` so we also need the `!important` here to be able to override the default hidden behavior on the sphinx rendered scikit-learn.org. See: https://github.com/scikit-learn/scikit-learn/issues/21755 */display: inline-block !important;position: relative;}#sk-container-id-1 div.sk-text-repr-fallback {display: none;}</style><div id=\"sk-container-id-1\" class=\"sk-top-container\"><div class=\"sk-text-repr-fallback\"><pre>XGBRegressor(base_score=None, booster=&#x27;gbtree&#x27;, callbacks=None,\n             colsample_bylevel=None, colsample_bynode=None, colsample_bytree=1,\n             early_stopping_rounds=None, enable_categorical=False,\n             eval_metric=None, feature_types=None, gamma=1, gpu_id=None,\n             grow_policy=None, importance_type=None,\n             interaction_constraints=None, learning_rate=0.11, max_bin=None,\n             max_cat_threshold=None, max_cat_to_onehot=None,\n             max_delta_step=None, max_depth=4, max_leaves=None,\n             min_child_weight=2, missing=nan, monotone_constraints=None,\n             n_estimators=77, n_jobs=None, num_parallel_tree=None,\n             predictor=None, random_state=None, ...)</pre><b>In a Jupyter environment, please rerun this cell to show the HTML representation or trust the notebook. <br />On GitHub, the HTML representation is unable to render, please try loading this page with nbviewer.org.</b></div><div class=\"sk-container\" hidden><div class=\"sk-item\"><div class=\"sk-estimator sk-toggleable\"><input class=\"sk-toggleable__control sk-hidden--visually\" id=\"sk-estimator-id-1\" type=\"checkbox\" checked><label for=\"sk-estimator-id-1\" class=\"sk-toggleable__label sk-toggleable__label-arrow\">XGBRegressor</label><div class=\"sk-toggleable__content\"><pre>XGBRegressor(base_score=None, booster=&#x27;gbtree&#x27;, callbacks=None,\n             colsample_bylevel=None, colsample_bynode=None, colsample_bytree=1,\n             early_stopping_rounds=None, enable_categorical=False,\n             eval_metric=None, feature_types=None, gamma=1, gpu_id=None,\n             grow_policy=None, importance_type=None,\n             interaction_constraints=None, learning_rate=0.11, max_bin=None,\n             max_cat_threshold=None, max_cat_to_onehot=None,\n             max_delta_step=None, max_depth=4, max_leaves=None,\n             min_child_weight=2, missing=nan, monotone_constraints=None,\n             n_estimators=77, n_jobs=None, num_parallel_tree=None,\n             predictor=None, random_state=None, ...)</pre></div></div></div></div></div>"
     },
     "execution_count": 13,
     "metadata": {},
     "output_type": "execute_result"
    }
   ],
   "source": [
    "# Registering the model.\n",
    "df = pureml.dataset.fetch('Regression:Example3:v1')\n",
    "x_test = df['x_test']\n",
    "y_test = df['y_test']\n",
    "y_train = df['y_train']\n",
    "x_train = df['x_train']\n",
    "@model(label='Regression_example_1_model:development2')\n",
    "def train_model():\n",
    "    MODEL_PARAMS = {\n",
    "        'booster': 'gbtree',\n",
    "        'learning_rate': 0.11,\n",
    "        'n_estimators': 77,\n",
    "        'objective': 'reg:squarederror',\n",
    "        'gamma': 1,\n",
    "        'max_depth': 4,\n",
    "        'reg_lambda': 1,\n",
    "        'reg_alpha': 1,\n",
    "        'subsample': 0.85,\n",
    "        'colsample_bytree': 1,\n",
    "        'min_child_weight': 2,\n",
    "        'seed': 42\n",
    "    }\n",
    "    xgbr = xgb.XGBRegressor(**MODEL_PARAMS)\n",
    "    xgbr.fit(x_train, y_train)\n",
    "    ypred2 = xgbr.predict(x_test)\n",
    "    rmse = np.sqrt(mean_squared_error(y_test, ypred2))\n",
    "    pureml.log(metrics={'RMSE': rmse})\n",
    "    print(f\"RMSE: {rmse}\")\n",
    "    return xgbr\n",
    "train_model()"
   ],
   "metadata": {
    "collapsed": false
   }
  },
  {
   "cell_type": "code",
   "execution_count": 14,
   "outputs": [
    {
     "data": {
      "text/plain": "XGBRegressor(base_score=None, booster='gbtree', callbacks=None,\n             colsample_bylevel=None, colsample_bynode=None, colsample_bytree=1,\n             early_stopping_rounds=None, enable_categorical=False,\n             eval_metric=None, feature_types=None, gamma=1, gpu_id=None,\n             grow_policy=None, importance_type=None,\n             interaction_constraints=None, learning_rate=0.11, max_bin=None,\n             max_cat_threshold=None, max_cat_to_onehot=None,\n             max_delta_step=None, max_depth=4, max_leaves=None,\n             min_child_weight=2, missing=nan, monotone_constraints=None,\n             n_estimators=77, n_jobs=None, num_parallel_tree=None,\n             predictor=None, random_state=None, ...)",
      "text/html": "<style>#sk-container-id-2 {color: black;background-color: white;}#sk-container-id-2 pre{padding: 0;}#sk-container-id-2 div.sk-toggleable {background-color: white;}#sk-container-id-2 label.sk-toggleable__label {cursor: pointer;display: block;width: 100%;margin-bottom: 0;padding: 0.3em;box-sizing: border-box;text-align: center;}#sk-container-id-2 label.sk-toggleable__label-arrow:before {content: \"▸\";float: left;margin-right: 0.25em;color: #696969;}#sk-container-id-2 label.sk-toggleable__label-arrow:hover:before {color: black;}#sk-container-id-2 div.sk-estimator:hover label.sk-toggleable__label-arrow:before {color: black;}#sk-container-id-2 div.sk-toggleable__content {max-height: 0;max-width: 0;overflow: hidden;text-align: left;background-color: #f0f8ff;}#sk-container-id-2 div.sk-toggleable__content pre {margin: 0.2em;color: black;border-radius: 0.25em;background-color: #f0f8ff;}#sk-container-id-2 input.sk-toggleable__control:checked~div.sk-toggleable__content {max-height: 200px;max-width: 100%;overflow: auto;}#sk-container-id-2 input.sk-toggleable__control:checked~label.sk-toggleable__label-arrow:before {content: \"▾\";}#sk-container-id-2 div.sk-estimator input.sk-toggleable__control:checked~label.sk-toggleable__label {background-color: #d4ebff;}#sk-container-id-2 div.sk-label input.sk-toggleable__control:checked~label.sk-toggleable__label {background-color: #d4ebff;}#sk-container-id-2 input.sk-hidden--visually {border: 0;clip: rect(1px 1px 1px 1px);clip: rect(1px, 1px, 1px, 1px);height: 1px;margin: -1px;overflow: hidden;padding: 0;position: absolute;width: 1px;}#sk-container-id-2 div.sk-estimator {font-family: monospace;background-color: #f0f8ff;border: 1px dotted black;border-radius: 0.25em;box-sizing: border-box;margin-bottom: 0.5em;}#sk-container-id-2 div.sk-estimator:hover {background-color: #d4ebff;}#sk-container-id-2 div.sk-parallel-item::after {content: \"\";width: 100%;border-bottom: 1px solid gray;flex-grow: 1;}#sk-container-id-2 div.sk-label:hover label.sk-toggleable__label {background-color: #d4ebff;}#sk-container-id-2 div.sk-serial::before {content: \"\";position: absolute;border-left: 1px solid gray;box-sizing: border-box;top: 0;bottom: 0;left: 50%;z-index: 0;}#sk-container-id-2 div.sk-serial {display: flex;flex-direction: column;align-items: center;background-color: white;padding-right: 0.2em;padding-left: 0.2em;position: relative;}#sk-container-id-2 div.sk-item {position: relative;z-index: 1;}#sk-container-id-2 div.sk-parallel {display: flex;align-items: stretch;justify-content: center;background-color: white;position: relative;}#sk-container-id-2 div.sk-item::before, #sk-container-id-2 div.sk-parallel-item::before {content: \"\";position: absolute;border-left: 1px solid gray;box-sizing: border-box;top: 0;bottom: 0;left: 50%;z-index: -1;}#sk-container-id-2 div.sk-parallel-item {display: flex;flex-direction: column;z-index: 1;position: relative;background-color: white;}#sk-container-id-2 div.sk-parallel-item:first-child::after {align-self: flex-end;width: 50%;}#sk-container-id-2 div.sk-parallel-item:last-child::after {align-self: flex-start;width: 50%;}#sk-container-id-2 div.sk-parallel-item:only-child::after {width: 0;}#sk-container-id-2 div.sk-dashed-wrapped {border: 1px dashed gray;margin: 0 0.4em 0.5em 0.4em;box-sizing: border-box;padding-bottom: 0.4em;background-color: white;}#sk-container-id-2 div.sk-label label {font-family: monospace;font-weight: bold;display: inline-block;line-height: 1.2em;}#sk-container-id-2 div.sk-label-container {text-align: center;}#sk-container-id-2 div.sk-container {/* jupyter's `normalize.less` sets `[hidden] { display: none; }` but bootstrap.min.css set `[hidden] { display: none !important; }` so we also need the `!important` here to be able to override the default hidden behavior on the sphinx rendered scikit-learn.org. See: https://github.com/scikit-learn/scikit-learn/issues/21755 */display: inline-block !important;position: relative;}#sk-container-id-2 div.sk-text-repr-fallback {display: none;}</style><div id=\"sk-container-id-2\" class=\"sk-top-container\"><div class=\"sk-text-repr-fallback\"><pre>XGBRegressor(base_score=None, booster=&#x27;gbtree&#x27;, callbacks=None,\n             colsample_bylevel=None, colsample_bynode=None, colsample_bytree=1,\n             early_stopping_rounds=None, enable_categorical=False,\n             eval_metric=None, feature_types=None, gamma=1, gpu_id=None,\n             grow_policy=None, importance_type=None,\n             interaction_constraints=None, learning_rate=0.11, max_bin=None,\n             max_cat_threshold=None, max_cat_to_onehot=None,\n             max_delta_step=None, max_depth=4, max_leaves=None,\n             min_child_weight=2, missing=nan, monotone_constraints=None,\n             n_estimators=77, n_jobs=None, num_parallel_tree=None,\n             predictor=None, random_state=None, ...)</pre><b>In a Jupyter environment, please rerun this cell to show the HTML representation or trust the notebook. <br />On GitHub, the HTML representation is unable to render, please try loading this page with nbviewer.org.</b></div><div class=\"sk-container\" hidden><div class=\"sk-item\"><div class=\"sk-estimator sk-toggleable\"><input class=\"sk-toggleable__control sk-hidden--visually\" id=\"sk-estimator-id-2\" type=\"checkbox\" checked><label for=\"sk-estimator-id-2\" class=\"sk-toggleable__label sk-toggleable__label-arrow\">XGBRegressor</label><div class=\"sk-toggleable__content\"><pre>XGBRegressor(base_score=None, booster=&#x27;gbtree&#x27;, callbacks=None,\n             colsample_bylevel=None, colsample_bynode=None, colsample_bytree=1,\n             early_stopping_rounds=None, enable_categorical=False,\n             eval_metric=None, feature_types=None, gamma=1, gpu_id=None,\n             grow_policy=None, importance_type=None,\n             interaction_constraints=None, learning_rate=0.11, max_bin=None,\n             max_cat_threshold=None, max_cat_to_onehot=None,\n             max_delta_step=None, max_depth=4, max_leaves=None,\n             min_child_weight=2, missing=nan, monotone_constraints=None,\n             n_estimators=77, n_jobs=None, num_parallel_tree=None,\n             predictor=None, random_state=None, ...)</pre></div></div></div></div></div>"
     },
     "execution_count": 14,
     "metadata": {},
     "output_type": "execute_result"
    }
   ],
   "source": [
    "pureml.model.fetch('Regression_example_1_model:development2:v1')"
   ],
   "metadata": {
    "collapsed": false
   }
  },
  {
   "cell_type": "code",
   "execution_count": 15,
   "outputs": [
    {
     "data": {
      "text/plain": "\u001B[1;32mPredict Function has been registered!\u001B[0m\n",
      "text/html": "<pre style=\"white-space:pre;overflow-x:auto;line-height:normal;font-family:Menlo,'DejaVu Sans Mono',consolas,'Courier New',monospace\"><span style=\"color: #008000; text-decoration-color: #008000; font-weight: bold\">Predict Function has been registered!</span>\n</pre>\n"
     },
     "metadata": {},
     "output_type": "display_data"
    },
    {
     "data": {
      "text/plain": "\u001B[1m{\u001B[0m\u001B[32m\"status\"\u001B[0m:\u001B[1;36m200\u001B[0m,\u001B[32m\"data\"\u001B[0m:\u001B[1m[\u001B[0m\u001B[1m{\u001B[0m\u001B[32m\"key\"\u001B[0m:\u001B[32m\"predict\"\u001B[0m,\u001B[32m\"data\"\u001B[0m:\u001B[32m\"https://pub-cc8d623e43954c8fa75380adfd3bb762.r2.dev/model-registry/6\u001B[0m\n\u001B[32m266a2b5-6c43-48f1-83cb-27600b10422a/models/0e02dec8-9397-43a1-b9ab-7f3c2ba36240/42318f37-787a-4a09-8840-af395a00ff5\u001B[0m\n\u001B[32md/logs/predict_IXwH91oKrF.txt\"\u001B[0m,\u001B[32m\"model_version\"\u001B[0m:\u001B[1m{\u001B[0m\u001B[32m\"uuid\"\u001B[0m:\u001B[32m\"1fc2da29-de6c-46dc-ba88-e142f7d5176d\"\u001B[0m,\u001B[32m\"version\"\u001B[0m:\u001B[32m\"v1\"\u001B[0m\u001B[1m}\u001B[0m,\u001B[32m\"data\u001B[0m\n\u001B[32mset_version\"\u001B[0m:\u001B[1m{\u001B[0m\u001B[32m\"uuid\"\u001B[0m:\u001B[32m\"00000000-0000-0000-0000-000000000000\"\u001B[0m,\u001B[32m\"version\"\u001B[0m:\u001B[32m\"\"\u001B[0m\u001B[1m}\u001B[0m\u001B[1m}\u001B[0m\u001B[1m]\u001B[0m,\u001B[32m\"message\"\u001B[0m:\u001B[32m\"Logs created\"\u001B[0m\u001B[1m}\u001B[0m\n",
      "text/html": "<pre style=\"white-space:pre;overflow-x:auto;line-height:normal;font-family:Menlo,'DejaVu Sans Mono',consolas,'Courier New',monospace\"><span style=\"font-weight: bold\">{</span><span style=\"color: #008000; text-decoration-color: #008000\">\"status\"</span>:<span style=\"color: #008080; text-decoration-color: #008080; font-weight: bold\">200</span>,<span style=\"color: #008000; text-decoration-color: #008000\">\"data\"</span>:<span style=\"font-weight: bold\">[{</span><span style=\"color: #008000; text-decoration-color: #008000\">\"key\"</span>:<span style=\"color: #008000; text-decoration-color: #008000\">\"predict\"</span>,<span style=\"color: #008000; text-decoration-color: #008000\">\"data\"</span>:<span style=\"color: #008000; text-decoration-color: #008000\">\"https://pub-cc8d623e43954c8fa75380adfd3bb762.r2.dev/model-registry/6</span>\n<span style=\"color: #008000; text-decoration-color: #008000\">266a2b5-6c43-48f1-83cb-27600b10422a/models/0e02dec8-9397-43a1-b9ab-7f3c2ba36240/42318f37-787a-4a09-8840-af395a00ff5</span>\n<span style=\"color: #008000; text-decoration-color: #008000\">d/logs/predict_IXwH91oKrF.txt\"</span>,<span style=\"color: #008000; text-decoration-color: #008000\">\"model_version\"</span>:<span style=\"font-weight: bold\">{</span><span style=\"color: #008000; text-decoration-color: #008000\">\"uuid\"</span>:<span style=\"color: #008000; text-decoration-color: #008000\">\"1fc2da29-de6c-46dc-ba88-e142f7d5176d\"</span>,<span style=\"color: #008000; text-decoration-color: #008000\">\"version\"</span>:<span style=\"color: #008000; text-decoration-color: #008000\">\"v1\"</span><span style=\"font-weight: bold\">}</span>,<span style=\"color: #008000; text-decoration-color: #008000\">\"data</span>\n<span style=\"color: #008000; text-decoration-color: #008000\">set_version\"</span>:<span style=\"font-weight: bold\">{</span><span style=\"color: #008000; text-decoration-color: #008000\">\"uuid\"</span>:<span style=\"color: #008000; text-decoration-color: #008000\">\"00000000-0000-0000-0000-000000000000\"</span>,<span style=\"color: #008000; text-decoration-color: #008000\">\"version\"</span>:<span style=\"color: #008000; text-decoration-color: #008000\">\"\"</span><span style=\"font-weight: bold\">}}]</span>,<span style=\"color: #008000; text-decoration-color: #008000\">\"message\"</span>:<span style=\"color: #008000; text-decoration-color: #008000\">\"Logs created\"</span><span style=\"font-weight: bold\">}</span>\n</pre>\n"
     },
     "metadata": {},
     "output_type": "display_data"
    }
   ],
   "source": [
    "# Adding the Prediction\n",
    "pureml.predict.add(label='Regression_example_1_model:development2:v1',paths={'predict':'predict.py'})"
   ],
   "metadata": {
    "collapsed": false
   }
  },
  {
   "cell_type": "code",
   "execution_count": 16,
   "outputs": [
    {
     "data": {
      "text/plain": "\u001B[1;32m predict file predict.py has been fetched\u001B[0m\n",
      "text/html": "<pre style=\"white-space:pre;overflow-x:auto;line-height:normal;font-family:Menlo,'DejaVu Sans Mono',consolas,'Courier New',monospace\"><span style=\"color: #008000; text-decoration-color: #008000; font-weight: bold\"> predict file predict.py has been fetched</span>\n</pre>\n"
     },
     "metadata": {},
     "output_type": "display_data"
    }
   ],
   "source": [
    "# Fetching the Prediction\n",
    "pureml.predict.fetch(label='Regression_example_1_model:development2:v1')"
   ],
   "metadata": {
    "collapsed": false
   }
  },
  {
   "cell_type": "code",
   "execution_count": 17,
   "outputs": [
    {
     "data": {
      "text/plain": "\u001B[1;32m Succesfully fetched the dataset\u001B[0m\n",
      "text/html": "<pre style=\"white-space:pre;overflow-x:auto;line-height:normal;font-family:Menlo,'DejaVu Sans Mono',consolas,'Courier New',monospace\"><span style=\"color: #008000; text-decoration-color: #008000; font-weight: bold\"> Succesfully fetched the dataset</span>\n</pre>\n"
     },
     "metadata": {},
     "output_type": "display_data"
    },
    {
     "data": {
      "text/plain": "\u001B[1;32m Succesfully fetched the predictor\u001B[0m\n",
      "text/html": "<pre style=\"white-space:pre;overflow-x:auto;line-height:normal;font-family:Menlo,'DejaVu Sans Mono',consolas,'Courier New',monospace\"><span style=\"color: #008000; text-decoration-color: #008000; font-weight: bold\"> Succesfully fetched the predictor</span>\n</pre>\n"
     },
     "metadata": {},
     "output_type": "display_data"
    },
    {
     "data": {
      "text/plain": "\u001B[1;32m Succesfully fetched the model\u001B[0m\n",
      "text/html": "<pre style=\"white-space:pre;overflow-x:auto;line-height:normal;font-family:Menlo,'DejaVu Sans Mono',consolas,'Courier New',monospace\"><span style=\"color: #008000; text-decoration-color: #008000; font-weight: bold\"> Succesfully fetched the model</span>\n</pre>\n"
     },
     "metadata": {},
     "output_type": "display_data"
    },
    {
     "data": {
      "text/plain": "{'mse': 25929418384.95182, 'mae': 20012.502131219208}"
     },
     "execution_count": 17,
     "metadata": {},
     "output_type": "execute_result"
    }
   ],
   "source": [
    "# Evaluating the model\n",
    "pureml.eval(task_type='regression',\n",
    "            label_model='Regression_example_1_model:development2:v1',\n",
    "            label_dataset='Regression:Example3:v1')"
   ],
   "metadata": {
    "collapsed": false
   }
  },
  {
   "cell_type": "code",
   "execution_count": null,
   "outputs": [],
   "source": [
    "# Using Fastapi to run the server\n",
    "import pureml\n",
    "pureml.fastapi.run(label='Regression_example_1_model:development1:v1')"
   ],
   "metadata": {
    "collapsed": false
   }
  },
  {
   "cell_type": "code",
   "execution_count": null,
   "outputs": [],
   "source": [],
   "metadata": {
    "collapsed": false
   }
  }
 ],
 "metadata": {
  "kernelspec": {
   "display_name": "Python 3",
   "language": "python",
   "name": "python3"
  },
  "language_info": {
   "codemirror_mode": {
    "name": "ipython",
    "version": 2
   },
   "file_extension": ".py",
   "mimetype": "text/x-python",
   "name": "python",
   "nbconvert_exporter": "python",
   "pygments_lexer": "ipython2",
   "version": "2.7.6"
  }
 },
 "nbformat": 4,
 "nbformat_minor": 0
}
