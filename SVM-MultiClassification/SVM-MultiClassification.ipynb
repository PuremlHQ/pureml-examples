{
 "cells": [
  {
   "cell_type": "code",
   "execution_count": 2,
   "metadata": {
    "collapsed": true
   },
   "outputs": [],
   "source": [
    "import pureml\n",
    "from sklearn.model_selection import train_test_split\n",
    "from sklearn.datasets import load_wine\n",
    "from pureml.decorators import load_data,dataset,model"
   ]
  },
  {
   "cell_type": "code",
   "execution_count": 3,
   "outputs": [],
   "source": [
    "@load_data()\n",
    "def load_data():\n",
    "    wine_data = load_wine()\n",
    "    return wine_data\n"
   ],
   "metadata": {
    "collapsed": false
   }
  },
  {
   "cell_type": "code",
   "execution_count": 4,
   "outputs": [],
   "source": [
    "@dataset(label='multiclass_data:development',upload=True)\n",
    "def create_dataset():\n",
    "    wine_data = load_data()\n",
    "    x = wine_data.data\n",
    "    y = wine_data.target\n",
    "    x_train,x_test,y_train,y_test = train_test_split(x,y,random_state=42)\n",
    "    return {'x_train':x_train,'x_test':x_test,'y_train':y_train,'y_test':y_test}\n"
   ],
   "metadata": {
    "collapsed": false
   }
  },
  {
   "cell_type": "code",
   "execution_count": 5,
   "outputs": [
    {
     "data": {
      "text/plain": "\u001B[1;32m Connected to Dataset\u001B[0m\n",
      "text/html": "<pre style=\"white-space:pre;overflow-x:auto;line-height:normal;font-family:Menlo,'DejaVu Sans Mono',consolas,'Courier New',monospace\"><span style=\"color: #008000; text-decoration-color: #008000; font-weight: bold\"> Connected to Dataset</span>\n</pre>\n"
     },
     "metadata": {},
     "output_type": "display_data"
    },
    {
     "data": {
      "text/plain": "\u001B[1;32m Connected to Branch\u001B[0m\n",
      "text/html": "<pre style=\"white-space:pre;overflow-x:auto;line-height:normal;font-family:Menlo,'DejaVu Sans Mono',consolas,'Courier New',monospace\"><span style=\"color: #008000; text-decoration-color: #008000; font-weight: bold\"> Connected to Branch</span>\n</pre>\n"
     },
     "metadata": {},
     "output_type": "display_data"
    },
    {
     "data": {
      "text/plain": "\u001B[1;31mDataset already exists. Not registering a new version!\u001B[0m\n",
      "text/html": "<pre style=\"white-space:pre;overflow-x:auto;line-height:normal;font-family:Menlo,'DejaVu Sans Mono',consolas,'Courier New',monospace\"><span style=\"color: #800000; text-decoration-color: #800000; font-weight: bold\">Dataset already exists. Not registering a new version!</span>\n</pre>\n"
     },
     "metadata": {},
     "output_type": "display_data"
    },
    {
     "data": {
      "text/plain": "{'x_train': array([[1.316e+01, 2.360e+00, 2.670e+00, ..., 1.030e+00, 3.170e+00,\n         1.185e+03],\n        [1.208e+01, 2.080e+00, 1.700e+00, ..., 1.270e+00, 2.960e+00,\n         7.100e+02],\n        [1.242e+01, 4.430e+00, 2.730e+00, ..., 9.200e-01, 3.120e+00,\n         3.650e+02],\n        ...,\n        [1.438e+01, 1.870e+00, 2.380e+00, ..., 1.200e+00, 3.000e+00,\n         1.547e+03],\n        [1.269e+01, 1.530e+00, 2.260e+00, ..., 9.600e-01, 2.060e+00,\n         4.950e+02],\n        [1.234e+01, 2.450e+00, 2.460e+00, ..., 8.000e-01, 3.380e+00,\n         4.380e+02]]),\n 'x_test': array([[1.364000e+01, 3.100000e+00, 2.560000e+00, 1.520000e+01,\n         1.160000e+02, 2.700000e+00, 3.030000e+00, 1.700000e-01,\n         1.660000e+00, 5.100000e+00, 9.600000e-01, 3.360000e+00,\n         8.450000e+02],\n        [1.421000e+01, 4.040000e+00, 2.440000e+00, 1.890000e+01,\n         1.110000e+02, 2.850000e+00, 2.650000e+00, 3.000000e-01,\n         1.250000e+00, 5.240000e+00, 8.700000e-01, 3.330000e+00,\n         1.080000e+03],\n        [1.293000e+01, 2.810000e+00, 2.700000e+00, 2.100000e+01,\n         9.600000e+01, 1.540000e+00, 5.000000e-01, 5.300000e-01,\n         7.500000e-01, 4.600000e+00, 7.700000e-01, 2.310000e+00,\n         6.000000e+02],\n        [1.373000e+01, 1.500000e+00, 2.700000e+00, 2.250000e+01,\n         1.010000e+02, 3.000000e+00, 3.250000e+00, 2.900000e-01,\n         2.380000e+00, 5.700000e+00, 1.190000e+00, 2.710000e+00,\n         1.285000e+03],\n        [1.237000e+01, 1.170000e+00, 1.920000e+00, 1.960000e+01,\n         7.800000e+01, 2.110000e+00, 2.000000e+00, 2.700000e-01,\n         1.040000e+00, 4.680000e+00, 1.120000e+00, 3.480000e+00,\n         5.100000e+02],\n        [1.430000e+01, 1.920000e+00, 2.720000e+00, 2.000000e+01,\n         1.200000e+02, 2.800000e+00, 3.140000e+00, 3.300000e-01,\n         1.970000e+00, 6.200000e+00, 1.070000e+00, 2.650000e+00,\n         1.280000e+03],\n        [1.200000e+01, 3.430000e+00, 2.000000e+00, 1.900000e+01,\n         8.700000e+01, 2.000000e+00, 1.640000e+00, 3.700000e-01,\n         1.870000e+00, 1.280000e+00, 9.300000e-01, 3.050000e+00,\n         5.640000e+02],\n        [1.340000e+01, 3.910000e+00, 2.480000e+00, 2.300000e+01,\n         1.020000e+02, 1.800000e+00, 7.500000e-01, 4.300000e-01,\n         1.410000e+00, 7.300000e+00, 7.000000e-01, 1.560000e+00,\n         7.500000e+02],\n        [1.161000e+01, 1.350000e+00, 2.700000e+00, 2.000000e+01,\n         9.400000e+01, 2.740000e+00, 2.920000e+00, 2.900000e-01,\n         2.490000e+00, 2.650000e+00, 9.600000e-01, 3.260000e+00,\n         6.800000e+02],\n        [1.336000e+01, 2.560000e+00, 2.350000e+00, 2.000000e+01,\n         8.900000e+01, 1.400000e+00, 5.000000e-01, 3.700000e-01,\n         6.400000e-01, 5.600000e+00, 7.000000e-01, 2.470000e+00,\n         7.800000e+02],\n        [1.350000e+01, 1.810000e+00, 2.610000e+00, 2.000000e+01,\n         9.600000e+01, 2.530000e+00, 2.610000e+00, 2.800000e-01,\n         1.660000e+00, 3.520000e+00, 1.120000e+00, 3.820000e+00,\n         8.450000e+02],\n        [1.350000e+01, 3.120000e+00, 2.620000e+00, 2.400000e+01,\n         1.230000e+02, 1.400000e+00, 1.570000e+00, 2.200000e-01,\n         1.250000e+00, 8.600000e+00, 5.900000e-01, 1.300000e+00,\n         5.000000e+02],\n        [1.341000e+01, 3.840000e+00, 2.120000e+00, 1.880000e+01,\n         9.000000e+01, 2.450000e+00, 2.680000e+00, 2.700000e-01,\n         1.480000e+00, 4.280000e+00, 9.100000e-01, 3.000000e+00,\n         1.035000e+03],\n        [1.277000e+01, 3.430000e+00, 1.980000e+00, 1.600000e+01,\n         8.000000e+01, 1.630000e+00, 1.250000e+00, 4.300000e-01,\n         8.300000e-01, 3.400000e+00, 7.000000e-01, 2.120000e+00,\n         3.720000e+02],\n        [1.363000e+01, 1.810000e+00, 2.700000e+00, 1.720000e+01,\n         1.120000e+02, 2.850000e+00, 2.910000e+00, 3.000000e-01,\n         1.460000e+00, 7.300000e+00, 1.280000e+00, 2.880000e+00,\n         1.310000e+03],\n        [1.252000e+01, 2.430000e+00, 2.170000e+00, 2.100000e+01,\n         8.800000e+01, 2.550000e+00, 2.270000e+00, 2.600000e-01,\n         1.220000e+00, 2.000000e+00, 9.000000e-01, 2.780000e+00,\n         3.250000e+02],\n        [1.141000e+01, 7.400000e-01, 2.500000e+00, 2.100000e+01,\n         8.800000e+01, 2.480000e+00, 2.010000e+00, 4.200000e-01,\n         1.440000e+00, 3.080000e+00, 1.100000e+00, 2.310000e+00,\n         4.340000e+02],\n        [1.208000e+01, 1.130000e+00, 2.510000e+00, 2.400000e+01,\n         7.800000e+01, 2.000000e+00, 1.580000e+00, 4.000000e-01,\n         1.400000e+00, 2.200000e+00, 1.310000e+00, 2.720000e+00,\n         6.300000e+02],\n        [1.386000e+01, 1.350000e+00, 2.270000e+00, 1.600000e+01,\n         9.800000e+01, 2.980000e+00, 3.150000e+00, 2.200000e-01,\n         1.850000e+00, 7.220000e+00, 1.010000e+00, 3.550000e+00,\n         1.045000e+03],\n        [1.208000e+01, 1.390000e+00, 2.500000e+00, 2.250000e+01,\n         8.400000e+01, 2.560000e+00, 2.290000e+00, 4.300000e-01,\n         1.040000e+00, 2.900000e+00, 9.300000e-01, 3.190000e+00,\n         3.850000e+02],\n        [1.419000e+01, 1.590000e+00, 2.480000e+00, 1.650000e+01,\n         1.080000e+02, 3.300000e+00, 3.930000e+00, 3.200000e-01,\n         1.860000e+00, 8.700000e+00, 1.230000e+00, 2.820000e+00,\n         1.680000e+03],\n        [1.311000e+01, 1.010000e+00, 1.700000e+00, 1.500000e+01,\n         7.800000e+01, 2.980000e+00, 3.180000e+00, 2.600000e-01,\n         2.280000e+00, 5.300000e+00, 1.120000e+00, 3.180000e+00,\n         5.020000e+02],\n        [1.233000e+01, 1.100000e+00, 2.280000e+00, 1.600000e+01,\n         1.010000e+02, 2.050000e+00, 1.090000e+00, 6.300000e-01,\n         4.100000e-01, 3.270000e+00, 1.250000e+00, 1.670000e+00,\n         6.800000e+02],\n        [1.340000e+01, 4.600000e+00, 2.860000e+00, 2.500000e+01,\n         1.120000e+02, 1.980000e+00, 9.600000e-01, 2.700000e-01,\n         1.110000e+00, 8.500000e+00, 6.700000e-01, 1.920000e+00,\n         6.300000e+02],\n        [1.277000e+01, 2.390000e+00, 2.280000e+00, 1.950000e+01,\n         8.600000e+01, 1.390000e+00, 5.100000e-01, 4.800000e-01,\n         6.400000e-01, 9.899999e+00, 5.700000e-01, 1.630000e+00,\n         4.700000e+02],\n        [1.378000e+01, 2.760000e+00, 2.300000e+00, 2.200000e+01,\n         9.000000e+01, 1.350000e+00, 6.800000e-01, 4.100000e-01,\n         1.030000e+00, 9.580000e+00, 7.000000e-01, 1.680000e+00,\n         6.150000e+02],\n        [1.242000e+01, 1.610000e+00, 2.190000e+00, 2.250000e+01,\n         1.080000e+02, 2.000000e+00, 2.090000e+00, 3.400000e-01,\n         1.610000e+00, 2.060000e+00, 1.060000e+00, 2.960000e+00,\n         3.450000e+02],\n        [1.237000e+01, 1.210000e+00, 2.560000e+00, 1.810000e+01,\n         9.800000e+01, 2.420000e+00, 2.650000e+00, 3.700000e-01,\n         2.080000e+00, 4.600000e+00, 1.190000e+00, 2.300000e+00,\n         6.780000e+02],\n        [1.208000e+01, 1.830000e+00, 2.320000e+00, 1.850000e+01,\n         8.100000e+01, 1.600000e+00, 1.500000e+00, 5.200000e-01,\n         1.640000e+00, 2.400000e+00, 1.080000e+00, 2.270000e+00,\n         4.800000e+02],\n        [1.356000e+01, 1.730000e+00, 2.460000e+00, 2.050000e+01,\n         1.160000e+02, 2.960000e+00, 2.780000e+00, 2.000000e-01,\n         2.450000e+00, 6.250000e+00, 9.800000e-01, 3.030000e+00,\n         1.120000e+03],\n        [1.402000e+01, 1.680000e+00, 2.210000e+00, 1.600000e+01,\n         9.600000e+01, 2.650000e+00, 2.330000e+00, 2.600000e-01,\n         1.980000e+00, 4.700000e+00, 1.040000e+00, 3.590000e+00,\n         1.035000e+03],\n        [1.237000e+01, 1.630000e+00, 2.300000e+00, 2.450000e+01,\n         8.800000e+01, 2.220000e+00, 2.450000e+00, 4.000000e-01,\n         1.900000e+00, 2.120000e+00, 8.900000e-01, 2.780000e+00,\n         3.420000e+02],\n        [1.316000e+01, 3.570000e+00, 2.150000e+00, 2.100000e+01,\n         1.020000e+02, 1.500000e+00, 5.500000e-01, 4.300000e-01,\n         1.300000e+00, 4.000000e+00, 6.000000e-01, 1.680000e+00,\n         8.300000e+02],\n        [1.358000e+01, 1.660000e+00, 2.360000e+00, 1.910000e+01,\n         1.060000e+02, 2.860000e+00, 3.190000e+00, 2.200000e-01,\n         1.950000e+00, 6.900000e+00, 1.090000e+00, 2.880000e+00,\n         1.515000e+03],\n        [1.375000e+01, 1.730000e+00, 2.410000e+00, 1.600000e+01,\n         8.900000e+01, 2.600000e+00, 2.760000e+00, 2.900000e-01,\n         1.810000e+00, 5.600000e+00, 1.150000e+00, 2.900000e+00,\n         1.320000e+03],\n        [1.388000e+01, 1.890000e+00, 2.590000e+00, 1.500000e+01,\n         1.010000e+02, 3.250000e+00, 3.560000e+00, 1.700000e-01,\n         1.700000e+00, 5.430000e+00, 8.800000e-01, 3.560000e+00,\n         1.095000e+03],\n        [1.434000e+01, 1.680000e+00, 2.700000e+00, 2.500000e+01,\n         9.800000e+01, 2.800000e+00, 1.310000e+00, 5.300000e-01,\n         2.700000e+00, 1.300000e+01, 5.700000e-01, 1.960000e+00,\n         6.600000e+02],\n        [1.253000e+01, 5.510000e+00, 2.640000e+00, 2.500000e+01,\n         9.600000e+01, 1.790000e+00, 6.000000e-01, 6.300000e-01,\n         1.100000e+00, 5.000000e+00, 8.200000e-01, 1.690000e+00,\n         5.150000e+02],\n        [1.237000e+01, 1.070000e+00, 2.100000e+00, 1.850000e+01,\n         8.800000e+01, 3.520000e+00, 3.750000e+00, 2.400000e-01,\n         1.950000e+00, 4.500000e+00, 1.040000e+00, 2.770000e+00,\n         6.600000e+02],\n        [1.348000e+01, 1.670000e+00, 2.640000e+00, 2.250000e+01,\n         8.900000e+01, 2.600000e+00, 1.100000e+00, 5.200000e-01,\n         2.290000e+00, 1.175000e+01, 5.700000e-01, 1.780000e+00,\n         6.200000e+02],\n        [1.307000e+01, 1.500000e+00, 2.100000e+00, 1.550000e+01,\n         9.800000e+01, 2.400000e+00, 2.640000e+00, 2.800000e-01,\n         1.370000e+00, 3.700000e+00, 1.180000e+00, 2.690000e+00,\n         1.020000e+03],\n        [1.222000e+01, 1.290000e+00, 1.940000e+00, 1.900000e+01,\n         9.200000e+01, 2.360000e+00, 2.040000e+00, 3.900000e-01,\n         2.080000e+00, 2.700000e+00, 8.600000e-01, 3.020000e+00,\n         3.120000e+02],\n        [1.267000e+01, 9.800000e-01, 2.240000e+00, 1.800000e+01,\n         9.900000e+01, 2.200000e+00, 1.940000e+00, 3.000000e-01,\n         1.460000e+00, 2.620000e+00, 1.230000e+00, 3.160000e+00,\n         4.500000e+02],\n        [1.334000e+01, 9.400000e-01, 2.360000e+00, 1.700000e+01,\n         1.100000e+02, 2.530000e+00, 1.300000e+00, 5.500000e-01,\n         4.200000e-01, 3.170000e+00, 1.020000e+00, 1.930000e+00,\n         7.500000e+02],\n        [1.362000e+01, 4.950000e+00, 2.350000e+00, 2.000000e+01,\n         9.200000e+01, 2.000000e+00, 8.000000e-01, 4.700000e-01,\n         1.020000e+00, 4.400000e+00, 9.100000e-01, 2.050000e+00,\n         5.500000e+02]]),\n 'y_train': array([0, 1, 1, 2, 0, 1, 0, 0, 2, 2, 1, 1, 0, 1, 0, 2, 1, 1, 2, 0, 0, 0,\n        2, 0, 0, 1, 2, 1, 0, 2, 1, 0, 2, 1, 1, 0, 1, 0, 0, 1, 0, 0, 2, 1,\n        1, 1, 0, 1, 1, 1, 2, 2, 0, 1, 2, 2, 1, 1, 0, 1, 2, 2, 1, 2, 1, 1,\n        1, 0, 0, 2, 0, 2, 0, 0, 1, 1, 0, 0, 0, 1, 0, 1, 2, 1, 1, 1, 2, 2,\n        1, 0, 0, 1, 2, 2, 0, 1, 2, 2, 2, 2, 1, 0, 1, 0, 2, 0, 0, 1, 0, 0,\n        2, 1, 0, 2, 2, 0, 0, 2, 2, 2, 1, 1, 1, 1, 1, 1, 2, 0, 1, 1, 0, 1,\n        1]),\n 'y_test': array([0, 0, 2, 0, 1, 0, 1, 2, 1, 2, 0, 2, 0, 1, 0, 1, 1, 1, 0, 1, 0, 1,\n        1, 2, 2, 2, 1, 1, 1, 0, 0, 1, 2, 0, 0, 0, 2, 2, 1, 2, 0, 1, 1, 1,\n        2])}"
     },
     "execution_count": 5,
     "metadata": {},
     "output_type": "execute_result"
    }
   ],
   "source": [
    "create_dataset()"
   ],
   "metadata": {
    "collapsed": false
   }
  },
  {
   "cell_type": "code",
   "execution_count": 6,
   "outputs": [
    {
     "name": "stdout",
     "output_type": "stream",
     "text": [
      "<class 'numpy.ndarray'>\n",
      "<class 'numpy.ndarray'>\n",
      "<class 'numpy.ndarray'>\n",
      "<class 'numpy.ndarray'>\n"
     ]
    }
   ],
   "source": [
    "df = pureml.dataset.fetch('multiclass_data:development:v1')\n",
    "x_train = df['x_train']\n",
    "x_test = df['x_test']\n",
    "y_train = df['y_train']\n",
    "y_test = df['y_test']\n",
    "print(type(x_train))\n",
    "print(type(x_test))\n",
    "print(type(y_train))\n",
    "print(type(y_test))"
   ],
   "metadata": {
    "collapsed": false
   }
  },
  {
   "cell_type": "code",
   "execution_count": 7,
   "outputs": [],
   "source": [
    "from sklearn.svm import SVC\n"
   ],
   "metadata": {
    "collapsed": false
   }
  },
  {
   "cell_type": "code",
   "execution_count": 8,
   "outputs": [
    {
     "name": "stdout",
     "output_type": "stream",
     "text": [
      "Accuracy : 0.9777777777777777\n"
     ]
    },
    {
     "data": {
      "text/plain": "branch_exists \u001B[3;92mTrue\u001B[0m\n",
      "text/html": "<pre style=\"white-space:pre;overflow-x:auto;line-height:normal;font-family:Menlo,'DejaVu Sans Mono',consolas,'Courier New',monospace\">branch_exists <span style=\"color: #00ff00; text-decoration-color: #00ff00; font-style: italic\">True</span>\n</pre>\n"
     },
     "metadata": {},
     "output_type": "display_data"
    },
    {
     "data": {
      "text/plain": "\u001B[1;31mModel already exists. Not registering a new version!\u001B[0m\n",
      "text/html": "<pre style=\"white-space:pre;overflow-x:auto;line-height:normal;font-family:Menlo,'DejaVu Sans Mono',consolas,'Courier New',monospace\"><span style=\"color: #800000; text-decoration-color: #800000; font-weight: bold\">Model already exists. Not registering a new version!</span>\n</pre>\n"
     },
     "metadata": {},
     "output_type": "display_data"
    },
    {
     "data": {
      "text/plain": "\u001B[1;32mMetrics have been registered!\u001B[0m\n",
      "text/html": "<pre style=\"white-space:pre;overflow-x:auto;line-height:normal;font-family:Menlo,'DejaVu Sans Mono',consolas,'Courier New',monospace\"><span style=\"color: #008000; text-decoration-color: #008000; font-weight: bold\">Metrics have been registered!</span>\n</pre>\n"
     },
     "metadata": {},
     "output_type": "display_data"
    },
    {
     "data": {
      "text/plain": "\u001B[1;32mParams have been registered!\u001B[0m\n",
      "text/html": "<pre style=\"white-space:pre;overflow-x:auto;line-height:normal;font-family:Menlo,'DejaVu Sans Mono',consolas,'Courier New',monospace\"><span style=\"color: #008000; text-decoration-color: #008000; font-weight: bold\">Params have been registered!</span>\n</pre>\n"
     },
     "metadata": {},
     "output_type": "display_data"
    },
    {
     "name": "stdout",
     "output_type": "stream",
     "text": [
      "No figures are found in config\n"
     ]
    },
    {
     "data": {
      "text/plain": "SVC(kernel='linear', random_state=42)",
      "text/html": "<style>#sk-container-id-1 {color: black;background-color: white;}#sk-container-id-1 pre{padding: 0;}#sk-container-id-1 div.sk-toggleable {background-color: white;}#sk-container-id-1 label.sk-toggleable__label {cursor: pointer;display: block;width: 100%;margin-bottom: 0;padding: 0.3em;box-sizing: border-box;text-align: center;}#sk-container-id-1 label.sk-toggleable__label-arrow:before {content: \"▸\";float: left;margin-right: 0.25em;color: #696969;}#sk-container-id-1 label.sk-toggleable__label-arrow:hover:before {color: black;}#sk-container-id-1 div.sk-estimator:hover label.sk-toggleable__label-arrow:before {color: black;}#sk-container-id-1 div.sk-toggleable__content {max-height: 0;max-width: 0;overflow: hidden;text-align: left;background-color: #f0f8ff;}#sk-container-id-1 div.sk-toggleable__content pre {margin: 0.2em;color: black;border-radius: 0.25em;background-color: #f0f8ff;}#sk-container-id-1 input.sk-toggleable__control:checked~div.sk-toggleable__content {max-height: 200px;max-width: 100%;overflow: auto;}#sk-container-id-1 input.sk-toggleable__control:checked~label.sk-toggleable__label-arrow:before {content: \"▾\";}#sk-container-id-1 div.sk-estimator input.sk-toggleable__control:checked~label.sk-toggleable__label {background-color: #d4ebff;}#sk-container-id-1 div.sk-label input.sk-toggleable__control:checked~label.sk-toggleable__label {background-color: #d4ebff;}#sk-container-id-1 input.sk-hidden--visually {border: 0;clip: rect(1px 1px 1px 1px);clip: rect(1px, 1px, 1px, 1px);height: 1px;margin: -1px;overflow: hidden;padding: 0;position: absolute;width: 1px;}#sk-container-id-1 div.sk-estimator {font-family: monospace;background-color: #f0f8ff;border: 1px dotted black;border-radius: 0.25em;box-sizing: border-box;margin-bottom: 0.5em;}#sk-container-id-1 div.sk-estimator:hover {background-color: #d4ebff;}#sk-container-id-1 div.sk-parallel-item::after {content: \"\";width: 100%;border-bottom: 1px solid gray;flex-grow: 1;}#sk-container-id-1 div.sk-label:hover label.sk-toggleable__label {background-color: #d4ebff;}#sk-container-id-1 div.sk-serial::before {content: \"\";position: absolute;border-left: 1px solid gray;box-sizing: border-box;top: 0;bottom: 0;left: 50%;z-index: 0;}#sk-container-id-1 div.sk-serial {display: flex;flex-direction: column;align-items: center;background-color: white;padding-right: 0.2em;padding-left: 0.2em;position: relative;}#sk-container-id-1 div.sk-item {position: relative;z-index: 1;}#sk-container-id-1 div.sk-parallel {display: flex;align-items: stretch;justify-content: center;background-color: white;position: relative;}#sk-container-id-1 div.sk-item::before, #sk-container-id-1 div.sk-parallel-item::before {content: \"\";position: absolute;border-left: 1px solid gray;box-sizing: border-box;top: 0;bottom: 0;left: 50%;z-index: -1;}#sk-container-id-1 div.sk-parallel-item {display: flex;flex-direction: column;z-index: 1;position: relative;background-color: white;}#sk-container-id-1 div.sk-parallel-item:first-child::after {align-self: flex-end;width: 50%;}#sk-container-id-1 div.sk-parallel-item:last-child::after {align-self: flex-start;width: 50%;}#sk-container-id-1 div.sk-parallel-item:only-child::after {width: 0;}#sk-container-id-1 div.sk-dashed-wrapped {border: 1px dashed gray;margin: 0 0.4em 0.5em 0.4em;box-sizing: border-box;padding-bottom: 0.4em;background-color: white;}#sk-container-id-1 div.sk-label label {font-family: monospace;font-weight: bold;display: inline-block;line-height: 1.2em;}#sk-container-id-1 div.sk-label-container {text-align: center;}#sk-container-id-1 div.sk-container {/* jupyter's `normalize.less` sets `[hidden] { display: none; }` but bootstrap.min.css set `[hidden] { display: none !important; }` so we also need the `!important` here to be able to override the default hidden behavior on the sphinx rendered scikit-learn.org. See: https://github.com/scikit-learn/scikit-learn/issues/21755 */display: inline-block !important;position: relative;}#sk-container-id-1 div.sk-text-repr-fallback {display: none;}</style><div id=\"sk-container-id-1\" class=\"sk-top-container\"><div class=\"sk-text-repr-fallback\"><pre>SVC(kernel=&#x27;linear&#x27;, random_state=42)</pre><b>In a Jupyter environment, please rerun this cell to show the HTML representation or trust the notebook. <br />On GitHub, the HTML representation is unable to render, please try loading this page with nbviewer.org.</b></div><div class=\"sk-container\" hidden><div class=\"sk-item\"><div class=\"sk-estimator sk-toggleable\"><input class=\"sk-toggleable__control sk-hidden--visually\" id=\"sk-estimator-id-1\" type=\"checkbox\" checked><label for=\"sk-estimator-id-1\" class=\"sk-toggleable__label sk-toggleable__label-arrow\">SVC</label><div class=\"sk-toggleable__content\"><pre>SVC(kernel=&#x27;linear&#x27;, random_state=42)</pre></div></div></div></div></div>"
     },
     "execution_count": 8,
     "metadata": {},
     "output_type": "execute_result"
    }
   ],
   "source": [
    "@model(label='multiclassification:svm')\n",
    "def create_model():\n",
    "    clf = SVC(kernel='linear',C=1.0,random_state=42)\n",
    "    clf.fit(x_train,y_train)\n",
    "    y_pred = clf.predict(x_test)\n",
    "    accuracy = clf.score(x_test,y_test)\n",
    "    print(f\"Accuracy : {accuracy}\")\n",
    "    pureml.log(metrics={'accuracy': accuracy},params= {'kernel':'linear'})\n",
    "    return clf\n",
    "create_model()"
   ],
   "metadata": {
    "collapsed": false
   }
  },
  {
   "cell_type": "code",
   "execution_count": 9,
   "outputs": [
    {
     "data": {
      "text/plain": "SVC(kernel='linear', random_state=42)",
      "text/html": "<style>#sk-container-id-2 {color: black;background-color: white;}#sk-container-id-2 pre{padding: 0;}#sk-container-id-2 div.sk-toggleable {background-color: white;}#sk-container-id-2 label.sk-toggleable__label {cursor: pointer;display: block;width: 100%;margin-bottom: 0;padding: 0.3em;box-sizing: border-box;text-align: center;}#sk-container-id-2 label.sk-toggleable__label-arrow:before {content: \"▸\";float: left;margin-right: 0.25em;color: #696969;}#sk-container-id-2 label.sk-toggleable__label-arrow:hover:before {color: black;}#sk-container-id-2 div.sk-estimator:hover label.sk-toggleable__label-arrow:before {color: black;}#sk-container-id-2 div.sk-toggleable__content {max-height: 0;max-width: 0;overflow: hidden;text-align: left;background-color: #f0f8ff;}#sk-container-id-2 div.sk-toggleable__content pre {margin: 0.2em;color: black;border-radius: 0.25em;background-color: #f0f8ff;}#sk-container-id-2 input.sk-toggleable__control:checked~div.sk-toggleable__content {max-height: 200px;max-width: 100%;overflow: auto;}#sk-container-id-2 input.sk-toggleable__control:checked~label.sk-toggleable__label-arrow:before {content: \"▾\";}#sk-container-id-2 div.sk-estimator input.sk-toggleable__control:checked~label.sk-toggleable__label {background-color: #d4ebff;}#sk-container-id-2 div.sk-label input.sk-toggleable__control:checked~label.sk-toggleable__label {background-color: #d4ebff;}#sk-container-id-2 input.sk-hidden--visually {border: 0;clip: rect(1px 1px 1px 1px);clip: rect(1px, 1px, 1px, 1px);height: 1px;margin: -1px;overflow: hidden;padding: 0;position: absolute;width: 1px;}#sk-container-id-2 div.sk-estimator {font-family: monospace;background-color: #f0f8ff;border: 1px dotted black;border-radius: 0.25em;box-sizing: border-box;margin-bottom: 0.5em;}#sk-container-id-2 div.sk-estimator:hover {background-color: #d4ebff;}#sk-container-id-2 div.sk-parallel-item::after {content: \"\";width: 100%;border-bottom: 1px solid gray;flex-grow: 1;}#sk-container-id-2 div.sk-label:hover label.sk-toggleable__label {background-color: #d4ebff;}#sk-container-id-2 div.sk-serial::before {content: \"\";position: absolute;border-left: 1px solid gray;box-sizing: border-box;top: 0;bottom: 0;left: 50%;z-index: 0;}#sk-container-id-2 div.sk-serial {display: flex;flex-direction: column;align-items: center;background-color: white;padding-right: 0.2em;padding-left: 0.2em;position: relative;}#sk-container-id-2 div.sk-item {position: relative;z-index: 1;}#sk-container-id-2 div.sk-parallel {display: flex;align-items: stretch;justify-content: center;background-color: white;position: relative;}#sk-container-id-2 div.sk-item::before, #sk-container-id-2 div.sk-parallel-item::before {content: \"\";position: absolute;border-left: 1px solid gray;box-sizing: border-box;top: 0;bottom: 0;left: 50%;z-index: -1;}#sk-container-id-2 div.sk-parallel-item {display: flex;flex-direction: column;z-index: 1;position: relative;background-color: white;}#sk-container-id-2 div.sk-parallel-item:first-child::after {align-self: flex-end;width: 50%;}#sk-container-id-2 div.sk-parallel-item:last-child::after {align-self: flex-start;width: 50%;}#sk-container-id-2 div.sk-parallel-item:only-child::after {width: 0;}#sk-container-id-2 div.sk-dashed-wrapped {border: 1px dashed gray;margin: 0 0.4em 0.5em 0.4em;box-sizing: border-box;padding-bottom: 0.4em;background-color: white;}#sk-container-id-2 div.sk-label label {font-family: monospace;font-weight: bold;display: inline-block;line-height: 1.2em;}#sk-container-id-2 div.sk-label-container {text-align: center;}#sk-container-id-2 div.sk-container {/* jupyter's `normalize.less` sets `[hidden] { display: none; }` but bootstrap.min.css set `[hidden] { display: none !important; }` so we also need the `!important` here to be able to override the default hidden behavior on the sphinx rendered scikit-learn.org. See: https://github.com/scikit-learn/scikit-learn/issues/21755 */display: inline-block !important;position: relative;}#sk-container-id-2 div.sk-text-repr-fallback {display: none;}</style><div id=\"sk-container-id-2\" class=\"sk-top-container\"><div class=\"sk-text-repr-fallback\"><pre>SVC(kernel=&#x27;linear&#x27;, random_state=42)</pre><b>In a Jupyter environment, please rerun this cell to show the HTML representation or trust the notebook. <br />On GitHub, the HTML representation is unable to render, please try loading this page with nbviewer.org.</b></div><div class=\"sk-container\" hidden><div class=\"sk-item\"><div class=\"sk-estimator sk-toggleable\"><input class=\"sk-toggleable__control sk-hidden--visually\" id=\"sk-estimator-id-2\" type=\"checkbox\" checked><label for=\"sk-estimator-id-2\" class=\"sk-toggleable__label sk-toggleable__label-arrow\">SVC</label><div class=\"sk-toggleable__content\"><pre>SVC(kernel=&#x27;linear&#x27;, random_state=42)</pre></div></div></div></div></div>"
     },
     "execution_count": 9,
     "metadata": {},
     "output_type": "execute_result"
    }
   ],
   "source": [
    "pureml.model.fetch('multiclassification:svm:v1')"
   ],
   "metadata": {
    "collapsed": false
   }
  },
  {
   "cell_type": "code",
   "execution_count": 10,
   "outputs": [
    {
     "data": {
      "text/plain": "\u001B[1;32mPredict Function has been registered!\u001B[0m\n",
      "text/html": "<pre style=\"white-space:pre;overflow-x:auto;line-height:normal;font-family:Menlo,'DejaVu Sans Mono',consolas,'Courier New',monospace\"><span style=\"color: #008000; text-decoration-color: #008000; font-weight: bold\">Predict Function has been registered!</span>\n</pre>\n"
     },
     "metadata": {},
     "output_type": "display_data"
    },
    {
     "data": {
      "text/plain": "\u001B[1m{\u001B[0m\u001B[32m\"status\"\u001B[0m:\u001B[1;36m200\u001B[0m,\u001B[32m\"data\"\u001B[0m:\u001B[1m[\u001B[0m\u001B[1m{\u001B[0m\u001B[32m\"key\"\u001B[0m:\u001B[32m\"predict\"\u001B[0m,\u001B[32m\"data\"\u001B[0m:\u001B[32m\"https://pub-cc8d623e43954c8fa75380adfd3bb762.r2.dev/model-registry/6\u001B[0m\n\u001B[32m266a2b5-6c43-48f1-83cb-27600b10422a/models/c9a0c5e3-82e9-473e-a6ba-e0cf875081e3/ddae7234-bad9-4156-ba25-086d4527166\u001B[0m\n\u001B[32md/logs/predict_cebM1hExcx.txt\"\u001B[0m,\u001B[32m\"model_version\"\u001B[0m:\u001B[1m{\u001B[0m\u001B[32m\"uuid\"\u001B[0m:\u001B[32m\"1a5f291b-6090-4f60-85eb-f6859e240914\"\u001B[0m,\u001B[32m\"version\"\u001B[0m:\u001B[32m\"v1\"\u001B[0m\u001B[1m}\u001B[0m,\u001B[32m\"data\u001B[0m\n\u001B[32mset_version\"\u001B[0m:\u001B[1m{\u001B[0m\u001B[32m\"uuid\"\u001B[0m:\u001B[32m\"00000000-0000-0000-0000-000000000000\"\u001B[0m,\u001B[32m\"version\"\u001B[0m:\u001B[32m\"\"\u001B[0m\u001B[1m}\u001B[0m\u001B[1m}\u001B[0m\u001B[1m]\u001B[0m,\u001B[32m\"message\"\u001B[0m:\u001B[32m\"Logs created\"\u001B[0m\u001B[1m}\u001B[0m\n",
      "text/html": "<pre style=\"white-space:pre;overflow-x:auto;line-height:normal;font-family:Menlo,'DejaVu Sans Mono',consolas,'Courier New',monospace\"><span style=\"font-weight: bold\">{</span><span style=\"color: #008000; text-decoration-color: #008000\">\"status\"</span>:<span style=\"color: #008080; text-decoration-color: #008080; font-weight: bold\">200</span>,<span style=\"color: #008000; text-decoration-color: #008000\">\"data\"</span>:<span style=\"font-weight: bold\">[{</span><span style=\"color: #008000; text-decoration-color: #008000\">\"key\"</span>:<span style=\"color: #008000; text-decoration-color: #008000\">\"predict\"</span>,<span style=\"color: #008000; text-decoration-color: #008000\">\"data\"</span>:<span style=\"color: #008000; text-decoration-color: #008000\">\"https://pub-cc8d623e43954c8fa75380adfd3bb762.r2.dev/model-registry/6</span>\n<span style=\"color: #008000; text-decoration-color: #008000\">266a2b5-6c43-48f1-83cb-27600b10422a/models/c9a0c5e3-82e9-473e-a6ba-e0cf875081e3/ddae7234-bad9-4156-ba25-086d4527166</span>\n<span style=\"color: #008000; text-decoration-color: #008000\">d/logs/predict_cebM1hExcx.txt\"</span>,<span style=\"color: #008000; text-decoration-color: #008000\">\"model_version\"</span>:<span style=\"font-weight: bold\">{</span><span style=\"color: #008000; text-decoration-color: #008000\">\"uuid\"</span>:<span style=\"color: #008000; text-decoration-color: #008000\">\"1a5f291b-6090-4f60-85eb-f6859e240914\"</span>,<span style=\"color: #008000; text-decoration-color: #008000\">\"version\"</span>:<span style=\"color: #008000; text-decoration-color: #008000\">\"v1\"</span><span style=\"font-weight: bold\">}</span>,<span style=\"color: #008000; text-decoration-color: #008000\">\"data</span>\n<span style=\"color: #008000; text-decoration-color: #008000\">set_version\"</span>:<span style=\"font-weight: bold\">{</span><span style=\"color: #008000; text-decoration-color: #008000\">\"uuid\"</span>:<span style=\"color: #008000; text-decoration-color: #008000\">\"00000000-0000-0000-0000-000000000000\"</span>,<span style=\"color: #008000; text-decoration-color: #008000\">\"version\"</span>:<span style=\"color: #008000; text-decoration-color: #008000\">\"\"</span><span style=\"font-weight: bold\">}}]</span>,<span style=\"color: #008000; text-decoration-color: #008000\">\"message\"</span>:<span style=\"color: #008000; text-decoration-color: #008000\">\"Logs created\"</span><span style=\"font-weight: bold\">}</span>\n</pre>\n"
     },
     "metadata": {},
     "output_type": "display_data"
    }
   ],
   "source": [
    "# Adding Predictions\n",
    "pureml.predict.add(label='multiclassification:svm:v1',paths= {'predict':'predict.py'})"
   ],
   "metadata": {
    "collapsed": false
   }
  },
  {
   "cell_type": "code",
   "execution_count": 11,
   "outputs": [
    {
     "data": {
      "text/plain": "\u001B[1;32m predict file predict.py has been fetched\u001B[0m\n",
      "text/html": "<pre style=\"white-space:pre;overflow-x:auto;line-height:normal;font-family:Menlo,'DejaVu Sans Mono',consolas,'Courier New',monospace\"><span style=\"color: #008000; text-decoration-color: #008000; font-weight: bold\"> predict file predict.py has been fetched</span>\n</pre>\n"
     },
     "metadata": {},
     "output_type": "display_data"
    }
   ],
   "source": [
    "pureml.predict.fetch(label= 'multiclassification:svm:v1')"
   ],
   "metadata": {
    "collapsed": false
   }
  },
  {
   "cell_type": "code",
   "execution_count": 12,
   "outputs": [
    {
     "data": {
      "text/plain": "\u001B[1;32m Succesfully fetched the dataset\u001B[0m\n",
      "text/html": "<pre style=\"white-space:pre;overflow-x:auto;line-height:normal;font-family:Menlo,'DejaVu Sans Mono',consolas,'Courier New',monospace\"><span style=\"color: #008000; text-decoration-color: #008000; font-weight: bold\"> Succesfully fetched the dataset</span>\n</pre>\n"
     },
     "metadata": {},
     "output_type": "display_data"
    },
    {
     "data": {
      "text/plain": "\u001B[1;32m Succesfully fetched the predictor\u001B[0m\n",
      "text/html": "<pre style=\"white-space:pre;overflow-x:auto;line-height:normal;font-family:Menlo,'DejaVu Sans Mono',consolas,'Courier New',monospace\"><span style=\"color: #008000; text-decoration-color: #008000; font-weight: bold\"> Succesfully fetched the predictor</span>\n</pre>\n"
     },
     "metadata": {},
     "output_type": "display_data"
    },
    {
     "data": {
      "text/plain": "\u001B[1;32m Succesfully fetched the model\u001B[0m\n",
      "text/html": "<pre style=\"white-space:pre;overflow-x:auto;line-height:normal;font-family:Menlo,'DejaVu Sans Mono',consolas,'Courier New',monospace\"><span style=\"color: #008000; text-decoration-color: #008000; font-weight: bold\"> Succesfully fetched the model</span>\n</pre>\n"
     },
     "metadata": {},
     "output_type": "display_data"
    },
    {
     "data": {
      "text/plain": "{'accuracy': 0.9777777777777777,\n 'precision': 0.9777777777777777,\n 'recall': 0.9777777777777777,\n 'f1': 0.9777777777777777,\n 'confusion_matrix': array([[15.,  0.,  0.],\n        [ 0., 17.,  1.],\n        [ 0.,  0., 12.]])}"
     },
     "execution_count": 12,
     "metadata": {},
     "output_type": "execute_result"
    }
   ],
   "source": [
    "pureml.eval(task_type='classification',\n",
    "            label_model='multiclassification:svm:v1',\n",
    "            label_dataset='multiclass_data:development:v1')\n"
   ],
   "metadata": {
    "collapsed": false
   }
  },
  {
   "cell_type": "code",
   "execution_count": null,
   "outputs": [],
   "source": [],
   "metadata": {
    "collapsed": false
   }
  }
 ],
 "metadata": {
  "kernelspec": {
   "display_name": "Python 3",
   "language": "python",
   "name": "python3"
  },
  "language_info": {
   "codemirror_mode": {
    "name": "ipython",
    "version": 2
   },
   "file_extension": ".py",
   "mimetype": "text/x-python",
   "name": "python",
   "nbconvert_exporter": "python",
   "pygments_lexer": "ipython2",
   "version": "2.7.6"
  }
 },
 "nbformat": 4,
 "nbformat_minor": 0
}
